{
 "cells": [
  {
   "cell_type": "markdown",
   "metadata": {},
   "source": [
    "# 1. 데이터 준비 및 전처리"
   ]
  },
  {
   "cell_type": "code",
   "execution_count": 1,
   "metadata": {},
   "outputs": [
    {
     "data": {
      "text/plain": [
       "<Figure size 3000x2250 with 0 Axes>"
      ]
     },
     "execution_count": 1,
     "metadata": {},
     "output_type": "execute_result"
    },
    {
     "data": {
      "text/plain": [
       "<Figure size 3000x2250 with 0 Axes>"
      ]
     },
     "metadata": {},
     "output_type": "display_data"
    }
   ],
   "source": [
    "import pandas as pd\n",
    "from matplotlib import pyplot as plt\n",
    "from matplotlib.pyplot import figure\n",
    "#plt.rc('font', family='AppleGothic')\n",
    "figure(figsize=(20, 15), dpi=150)"
   ]
  },
  {
   "cell_type": "markdown",
   "metadata": {},
   "source": [
    "## 1.1 출생자 증감률 변수 생성 "
   ]
  },
  {
   "cell_type": "markdown",
   "metadata": {},
   "source": [
    "> 2018,2019,2020,2021년도 행정동별 출생자 신고수 데이터를 활용하여 연간 평균 성장률를 계산해 파생 변수 생성 "
   ]
  },
  {
   "cell_type": "code",
   "execution_count": 2,
   "metadata": {},
   "outputs": [],
   "source": [
    "birth2018 = pd.read_csv('./2018 출생신고수.csv')\n",
    "birth2019 = pd.read_csv('./2019 출생신고수.csv')\n",
    "birth2020 = pd.read_csv('./2020 출생신고수.csv')\n",
    "birth2021 = pd.read_csv('./2021 출생신고수.csv')"
   ]
  },
  {
   "cell_type": "code",
   "execution_count": 3,
   "metadata": {},
   "outputs": [
    {
     "data": {
      "text/html": [
       "<div>\n",
       "<style scoped>\n",
       "    .dataframe tbody tr th:only-of-type {\n",
       "        vertical-align: middle;\n",
       "    }\n",
       "\n",
       "    .dataframe tbody tr th {\n",
       "        vertical-align: top;\n",
       "    }\n",
       "\n",
       "    .dataframe thead th {\n",
       "        text-align: right;\n",
       "    }\n",
       "</style>\n",
       "<table border=\"1\" class=\"dataframe\">\n",
       "  <thead>\n",
       "    <tr style=\"text-align: right;\">\n",
       "      <th></th>\n",
       "      <th>구별</th>\n",
       "      <th>동별</th>\n",
       "      <th>합계</th>\n",
       "    </tr>\n",
       "  </thead>\n",
       "  <tbody>\n",
       "    <tr>\n",
       "      <th>0</th>\n",
       "      <td>종로구</td>\n",
       "      <td>사직동</td>\n",
       "      <td>43</td>\n",
       "    </tr>\n",
       "    <tr>\n",
       "      <th>1</th>\n",
       "      <td>종로구</td>\n",
       "      <td>삼청동</td>\n",
       "      <td>11</td>\n",
       "    </tr>\n",
       "    <tr>\n",
       "      <th>2</th>\n",
       "      <td>종로구</td>\n",
       "      <td>부암동</td>\n",
       "      <td>38</td>\n",
       "    </tr>\n",
       "    <tr>\n",
       "      <th>3</th>\n",
       "      <td>종로구</td>\n",
       "      <td>평창동</td>\n",
       "      <td>92</td>\n",
       "    </tr>\n",
       "    <tr>\n",
       "      <th>4</th>\n",
       "      <td>종로구</td>\n",
       "      <td>무악동</td>\n",
       "      <td>16</td>\n",
       "    </tr>\n",
       "  </tbody>\n",
       "</table>\n",
       "</div>"
      ],
      "text/plain": [
       "    구별   동별  합계\n",
       "0  종로구  사직동  43\n",
       "1  종로구  삼청동  11\n",
       "2  종로구  부암동  38\n",
       "3  종로구  평창동  92\n",
       "4  종로구  무악동  16"
      ]
     },
     "execution_count": 3,
     "metadata": {},
     "output_type": "execute_result"
    }
   ],
   "source": [
    "birth2018.head()"
   ]
  },
  {
   "cell_type": "code",
   "execution_count": 4,
   "metadata": {},
   "outputs": [],
   "source": [
    "birth2020 = birth2020[['동별(2)', '동별(3)','출생자수.12']]\n",
    "birth2021 = birth2021[['동별(2)', '동별(3)','출생자수.12']]"
   ]
  },
  {
   "cell_type": "code",
   "execution_count": 5,
   "metadata": {},
   "outputs": [],
   "source": [
    "birth2020.rename(columns = {'동별(2)':'구별', '동별(3)':'동별'}, inplace = True)\n",
    "birth2021.rename(columns = {'동별(2)':'구별', '동별(3)':'동별'}, inplace = True)"
   ]
  },
  {
   "cell_type": "code",
   "execution_count": 6,
   "metadata": {},
   "outputs": [],
   "source": [
    "birth_df2018_2019 = birth2018.merge(birth2019,how='outer',on=['구별','동별'])"
   ]
  },
  {
   "cell_type": "code",
   "execution_count": 7,
   "metadata": {},
   "outputs": [
    {
     "data": {
      "text/html": [
       "<div>\n",
       "<style scoped>\n",
       "    .dataframe tbody tr th:only-of-type {\n",
       "        vertical-align: middle;\n",
       "    }\n",
       "\n",
       "    .dataframe tbody tr th {\n",
       "        vertical-align: top;\n",
       "    }\n",
       "\n",
       "    .dataframe thead th {\n",
       "        text-align: right;\n",
       "    }\n",
       "</style>\n",
       "<table border=\"1\" class=\"dataframe\">\n",
       "  <thead>\n",
       "    <tr style=\"text-align: right;\">\n",
       "      <th></th>\n",
       "      <th>구별</th>\n",
       "      <th>동별</th>\n",
       "      <th>합계_x</th>\n",
       "      <th>합계_y</th>\n",
       "      <th>출생아수_증감율</th>\n",
       "    </tr>\n",
       "  </thead>\n",
       "  <tbody>\n",
       "    <tr>\n",
       "      <th>0</th>\n",
       "      <td>종로구</td>\n",
       "      <td>사직동</td>\n",
       "      <td>43</td>\n",
       "      <td>51.0</td>\n",
       "      <td>0.19</td>\n",
       "    </tr>\n",
       "    <tr>\n",
       "      <th>1</th>\n",
       "      <td>종로구</td>\n",
       "      <td>삼청동</td>\n",
       "      <td>11</td>\n",
       "      <td>7.0</td>\n",
       "      <td>-0.36</td>\n",
       "    </tr>\n",
       "    <tr>\n",
       "      <th>2</th>\n",
       "      <td>종로구</td>\n",
       "      <td>부암동</td>\n",
       "      <td>38</td>\n",
       "      <td>47.0</td>\n",
       "      <td>0.24</td>\n",
       "    </tr>\n",
       "    <tr>\n",
       "      <th>3</th>\n",
       "      <td>종로구</td>\n",
       "      <td>평창동</td>\n",
       "      <td>92</td>\n",
       "      <td>82.0</td>\n",
       "      <td>-0.11</td>\n",
       "    </tr>\n",
       "    <tr>\n",
       "      <th>4</th>\n",
       "      <td>종로구</td>\n",
       "      <td>무악동</td>\n",
       "      <td>16</td>\n",
       "      <td>45.0</td>\n",
       "      <td>1.81</td>\n",
       "    </tr>\n",
       "  </tbody>\n",
       "</table>\n",
       "</div>"
      ],
      "text/plain": [
       "    구별   동별  합계_x  합계_y  출생아수_증감율\n",
       "0  종로구  사직동    43  51.0      0.19\n",
       "1  종로구  삼청동    11   7.0     -0.36\n",
       "2  종로구  부암동    38  47.0      0.24\n",
       "3  종로구  평창동    92  82.0     -0.11\n",
       "4  종로구  무악동    16  45.0      1.81"
      ]
     },
     "execution_count": 7,
     "metadata": {},
     "output_type": "execute_result"
    }
   ],
   "source": [
    "birth_df2018_2019['출생아수_증감율'] = round((birth_df2018_2019['합계_y']-birth_df2018_2019['합계_x'])/birth_df2018_2019['합계_x'],2)\n",
    "birth_df2018_2019.head()"
   ]
  },
  {
   "cell_type": "code",
   "execution_count": 8,
   "metadata": {},
   "outputs": [],
   "source": [
    "birth_df2019_2020 = birth2019.merge(birth2020,how='outer',on=['구별','동별'])"
   ]
  },
  {
   "cell_type": "code",
   "execution_count": 9,
   "metadata": {},
   "outputs": [
    {
     "data": {
      "text/html": [
       "<div>\n",
       "<style scoped>\n",
       "    .dataframe tbody tr th:only-of-type {\n",
       "        vertical-align: middle;\n",
       "    }\n",
       "\n",
       "    .dataframe tbody tr th {\n",
       "        vertical-align: top;\n",
       "    }\n",
       "\n",
       "    .dataframe thead th {\n",
       "        text-align: right;\n",
       "    }\n",
       "</style>\n",
       "<table border=\"1\" class=\"dataframe\">\n",
       "  <thead>\n",
       "    <tr style=\"text-align: right;\">\n",
       "      <th></th>\n",
       "      <th>구별</th>\n",
       "      <th>동별</th>\n",
       "      <th>합계</th>\n",
       "      <th>출생자수.12</th>\n",
       "      <th>출생아수_증감율</th>\n",
       "    </tr>\n",
       "  </thead>\n",
       "  <tbody>\n",
       "    <tr>\n",
       "      <th>0</th>\n",
       "      <td>종로구</td>\n",
       "      <td>사직동</td>\n",
       "      <td>51.0</td>\n",
       "      <td>28</td>\n",
       "      <td>-0.45</td>\n",
       "    </tr>\n",
       "    <tr>\n",
       "      <th>1</th>\n",
       "      <td>종로구</td>\n",
       "      <td>삼청동</td>\n",
       "      <td>7.0</td>\n",
       "      <td>9</td>\n",
       "      <td>0.29</td>\n",
       "    </tr>\n",
       "    <tr>\n",
       "      <th>2</th>\n",
       "      <td>종로구</td>\n",
       "      <td>부암동</td>\n",
       "      <td>47.0</td>\n",
       "      <td>23</td>\n",
       "      <td>-0.51</td>\n",
       "    </tr>\n",
       "    <tr>\n",
       "      <th>3</th>\n",
       "      <td>종로구</td>\n",
       "      <td>평창동</td>\n",
       "      <td>82.0</td>\n",
       "      <td>77</td>\n",
       "      <td>-0.06</td>\n",
       "    </tr>\n",
       "    <tr>\n",
       "      <th>4</th>\n",
       "      <td>종로구</td>\n",
       "      <td>무악동</td>\n",
       "      <td>45.0</td>\n",
       "      <td>39</td>\n",
       "      <td>-0.13</td>\n",
       "    </tr>\n",
       "  </tbody>\n",
       "</table>\n",
       "</div>"
      ],
      "text/plain": [
       "    구별   동별    합계  출생자수.12  출생아수_증감율\n",
       "0  종로구  사직동  51.0       28     -0.45\n",
       "1  종로구  삼청동   7.0        9      0.29\n",
       "2  종로구  부암동  47.0       23     -0.51\n",
       "3  종로구  평창동  82.0       77     -0.06\n",
       "4  종로구  무악동  45.0       39     -0.13"
      ]
     },
     "execution_count": 9,
     "metadata": {},
     "output_type": "execute_result"
    }
   ],
   "source": [
    "birth_df2019_2020['출생아수_증감율'] = round((birth_df2019_2020['출생자수.12']-birth_df2019_2020['합계'])/birth_df2019_2020['합계'],2)\n",
    "birth_df2019_2020.head()"
   ]
  },
  {
   "cell_type": "code",
   "execution_count": 10,
   "metadata": {},
   "outputs": [],
   "source": [
    "birth_df2020_2021 = birth2020.merge(birth2021,how='outer',on=['구별','동별'])"
   ]
  },
  {
   "cell_type": "code",
   "execution_count": 11,
   "metadata": {},
   "outputs": [
    {
     "data": {
      "text/html": [
       "<div>\n",
       "<style scoped>\n",
       "    .dataframe tbody tr th:only-of-type {\n",
       "        vertical-align: middle;\n",
       "    }\n",
       "\n",
       "    .dataframe tbody tr th {\n",
       "        vertical-align: top;\n",
       "    }\n",
       "\n",
       "    .dataframe thead th {\n",
       "        text-align: right;\n",
       "    }\n",
       "</style>\n",
       "<table border=\"1\" class=\"dataframe\">\n",
       "  <thead>\n",
       "    <tr style=\"text-align: right;\">\n",
       "      <th></th>\n",
       "      <th>구별</th>\n",
       "      <th>동별</th>\n",
       "      <th>출생자수.12_x</th>\n",
       "      <th>출생자수.12_y</th>\n",
       "      <th>출생아수_증감율</th>\n",
       "    </tr>\n",
       "  </thead>\n",
       "  <tbody>\n",
       "    <tr>\n",
       "      <th>0</th>\n",
       "      <td>종로구</td>\n",
       "      <td>사직동</td>\n",
       "      <td>28.0</td>\n",
       "      <td>38</td>\n",
       "      <td>0.36</td>\n",
       "    </tr>\n",
       "    <tr>\n",
       "      <th>1</th>\n",
       "      <td>종로구</td>\n",
       "      <td>삼청동</td>\n",
       "      <td>9.0</td>\n",
       "      <td>9</td>\n",
       "      <td>0.00</td>\n",
       "    </tr>\n",
       "    <tr>\n",
       "      <th>2</th>\n",
       "      <td>종로구</td>\n",
       "      <td>부암동</td>\n",
       "      <td>23.0</td>\n",
       "      <td>32</td>\n",
       "      <td>0.39</td>\n",
       "    </tr>\n",
       "    <tr>\n",
       "      <th>3</th>\n",
       "      <td>종로구</td>\n",
       "      <td>평창동</td>\n",
       "      <td>77.0</td>\n",
       "      <td>70</td>\n",
       "      <td>-0.09</td>\n",
       "    </tr>\n",
       "    <tr>\n",
       "      <th>4</th>\n",
       "      <td>종로구</td>\n",
       "      <td>무악동</td>\n",
       "      <td>39.0</td>\n",
       "      <td>52</td>\n",
       "      <td>0.33</td>\n",
       "    </tr>\n",
       "  </tbody>\n",
       "</table>\n",
       "</div>"
      ],
      "text/plain": [
       "    구별   동별  출생자수.12_x  출생자수.12_y  출생아수_증감율\n",
       "0  종로구  사직동       28.0         38      0.36\n",
       "1  종로구  삼청동        9.0          9      0.00\n",
       "2  종로구  부암동       23.0         32      0.39\n",
       "3  종로구  평창동       77.0         70     -0.09\n",
       "4  종로구  무악동       39.0         52      0.33"
      ]
     },
     "execution_count": 11,
     "metadata": {},
     "output_type": "execute_result"
    }
   ],
   "source": [
    "birth_df2020_2021['출생아수_증감율'] = round((birth_df2020_2021['출생자수.12_y']-birth_df2020_2021['출생자수.12_x'])/birth_df2020_2021['출생자수.12_x'],2)\n",
    "birth_df2020_2021.head()"
   ]
  },
  {
   "cell_type": "code",
   "execution_count": 12,
   "metadata": {},
   "outputs": [
    {
     "data": {
      "text/html": [
       "<div>\n",
       "<style scoped>\n",
       "    .dataframe tbody tr th:only-of-type {\n",
       "        vertical-align: middle;\n",
       "    }\n",
       "\n",
       "    .dataframe tbody tr th {\n",
       "        vertical-align: top;\n",
       "    }\n",
       "\n",
       "    .dataframe thead th {\n",
       "        text-align: right;\n",
       "    }\n",
       "</style>\n",
       "<table border=\"1\" class=\"dataframe\">\n",
       "  <thead>\n",
       "    <tr style=\"text-align: right;\">\n",
       "      <th></th>\n",
       "      <th>구별</th>\n",
       "      <th>동별</th>\n",
       "      <th>합계_x</th>\n",
       "      <th>합계_y</th>\n",
       "      <th>출생아수_증감율_x</th>\n",
       "      <th>합계</th>\n",
       "      <th>출생자수.12</th>\n",
       "      <th>출생아수_증감율_y</th>\n",
       "      <th>출생자수.12_x</th>\n",
       "      <th>출생자수.12_y</th>\n",
       "      <th>출생아수_증감율</th>\n",
       "    </tr>\n",
       "  </thead>\n",
       "  <tbody>\n",
       "    <tr>\n",
       "      <th>0</th>\n",
       "      <td>종로구</td>\n",
       "      <td>사직동</td>\n",
       "      <td>43.0</td>\n",
       "      <td>51.0</td>\n",
       "      <td>0.19</td>\n",
       "      <td>51.0</td>\n",
       "      <td>28.0</td>\n",
       "      <td>-0.45</td>\n",
       "      <td>28.0</td>\n",
       "      <td>38</td>\n",
       "      <td>0.36</td>\n",
       "    </tr>\n",
       "    <tr>\n",
       "      <th>1</th>\n",
       "      <td>종로구</td>\n",
       "      <td>삼청동</td>\n",
       "      <td>11.0</td>\n",
       "      <td>7.0</td>\n",
       "      <td>-0.36</td>\n",
       "      <td>7.0</td>\n",
       "      <td>9.0</td>\n",
       "      <td>0.29</td>\n",
       "      <td>9.0</td>\n",
       "      <td>9</td>\n",
       "      <td>0.00</td>\n",
       "    </tr>\n",
       "    <tr>\n",
       "      <th>2</th>\n",
       "      <td>종로구</td>\n",
       "      <td>부암동</td>\n",
       "      <td>38.0</td>\n",
       "      <td>47.0</td>\n",
       "      <td>0.24</td>\n",
       "      <td>47.0</td>\n",
       "      <td>23.0</td>\n",
       "      <td>-0.51</td>\n",
       "      <td>23.0</td>\n",
       "      <td>32</td>\n",
       "      <td>0.39</td>\n",
       "    </tr>\n",
       "    <tr>\n",
       "      <th>3</th>\n",
       "      <td>종로구</td>\n",
       "      <td>평창동</td>\n",
       "      <td>92.0</td>\n",
       "      <td>82.0</td>\n",
       "      <td>-0.11</td>\n",
       "      <td>82.0</td>\n",
       "      <td>77.0</td>\n",
       "      <td>-0.06</td>\n",
       "      <td>77.0</td>\n",
       "      <td>70</td>\n",
       "      <td>-0.09</td>\n",
       "    </tr>\n",
       "    <tr>\n",
       "      <th>4</th>\n",
       "      <td>종로구</td>\n",
       "      <td>무악동</td>\n",
       "      <td>16.0</td>\n",
       "      <td>45.0</td>\n",
       "      <td>1.81</td>\n",
       "      <td>45.0</td>\n",
       "      <td>39.0</td>\n",
       "      <td>-0.13</td>\n",
       "      <td>39.0</td>\n",
       "      <td>52</td>\n",
       "      <td>0.33</td>\n",
       "    </tr>\n",
       "  </tbody>\n",
       "</table>\n",
       "</div>"
      ],
      "text/plain": [
       "    구별   동별  합계_x  합계_y  출생아수_증감율_x    합계  출생자수.12  출생아수_증감율_y  출생자수.12_x  \\\n",
       "0  종로구  사직동  43.0  51.0        0.19  51.0     28.0       -0.45       28.0   \n",
       "1  종로구  삼청동  11.0   7.0       -0.36   7.0      9.0        0.29        9.0   \n",
       "2  종로구  부암동  38.0  47.0        0.24  47.0     23.0       -0.51       23.0   \n",
       "3  종로구  평창동  92.0  82.0       -0.11  82.0     77.0       -0.06       77.0   \n",
       "4  종로구  무악동  16.0  45.0        1.81  45.0     39.0       -0.13       39.0   \n",
       "\n",
       "   출생자수.12_y  출생아수_증감율  \n",
       "0         38      0.36  \n",
       "1          9      0.00  \n",
       "2         32      0.39  \n",
       "3         70     -0.09  \n",
       "4         52      0.33  "
      ]
     },
     "execution_count": 12,
     "metadata": {},
     "output_type": "execute_result"
    }
   ],
   "source": [
    "birth_df = birth_df2018_2019.merge(birth_df2019_2020,how='outer',on=['구별','동별'])\n",
    "birth_df = birth_df.merge(birth_df2020_2021,how='outer',on=['구별','동별'])\n",
    "birth_df.head()"
   ]
  },
  {
   "cell_type": "code",
   "execution_count": 13,
   "metadata": {},
   "outputs": [],
   "source": [
    "birth_df['AAGR'] = round((birth_df['출생아수_증감율_x']+birth_df['출생아수_증감율_y']+birth_df['출생아수_증감율'])/3,2)"
   ]
  },
  {
   "cell_type": "code",
   "execution_count": 14,
   "metadata": {},
   "outputs": [],
   "source": [
    "birth_dff = birth_df[['구별', '동별','AAGR']].copy()"
   ]
  },
  {
   "cell_type": "markdown",
   "metadata": {},
   "source": [
    "### 1.1.1 결측치가 있는 행정동을 해당 행정구의 평균값으로 채우기"
   ]
  },
  {
   "cell_type": "code",
   "execution_count": 15,
   "metadata": {},
   "outputs": [],
   "source": [
    "birth_dff = birth_dff[birth_dff.동별 != '상일동']  #법정동인 상일동은 상일 1동과 상일 2동으로 나눠줬다."
   ]
  },
  {
   "cell_type": "code",
   "execution_count": 16,
   "metadata": {},
   "outputs": [
    {
     "data": {
      "text/html": [
       "<div>\n",
       "<style scoped>\n",
       "    .dataframe tbody tr th:only-of-type {\n",
       "        vertical-align: middle;\n",
       "    }\n",
       "\n",
       "    .dataframe tbody tr th {\n",
       "        vertical-align: top;\n",
       "    }\n",
       "\n",
       "    .dataframe thead th {\n",
       "        text-align: right;\n",
       "    }\n",
       "</style>\n",
       "<table border=\"1\" class=\"dataframe\">\n",
       "  <thead>\n",
       "    <tr style=\"text-align: right;\">\n",
       "      <th></th>\n",
       "      <th>구별</th>\n",
       "      <th>동별</th>\n",
       "      <th>AAGR</th>\n",
       "    </tr>\n",
       "  </thead>\n",
       "  <tbody>\n",
       "    <tr>\n",
       "      <th>421</th>\n",
       "      <td>강동구</td>\n",
       "      <td>둔촌1동</td>\n",
       "      <td>NaN</td>\n",
       "    </tr>\n",
       "    <tr>\n",
       "      <th>425</th>\n",
       "      <td>구로구</td>\n",
       "      <td>항동</td>\n",
       "      <td>NaN</td>\n",
       "    </tr>\n",
       "  </tbody>\n",
       "</table>\n",
       "</div>"
      ],
      "text/plain": [
       "      구별    동별  AAGR\n",
       "421  강동구  둔촌1동   NaN\n",
       "425  구로구    항동   NaN"
      ]
     },
     "execution_count": 16,
     "metadata": {},
     "output_type": "execute_result"
    }
   ],
   "source": [
    "birth_dff[birth_dff.isna().any(axis=1)]"
   ]
  },
  {
   "cell_type": "code",
   "execution_count": 17,
   "metadata": {},
   "outputs": [],
   "source": [
    "nan_index = list(birth_dff[birth_dff.isna().any(axis=1)].index)\n",
    "nan_index\n",
    "\n",
    "for index in nan_index:\n",
    "    gu = birth_dff.loc[index,'구별']\n",
    "    birth_dff.at[index,'AAGR'] = round(birth_dff[birth_dff['구별']==gu].AAGR.mean(),2)"
   ]
  },
  {
   "cell_type": "code",
   "execution_count": 18,
   "metadata": {},
   "outputs": [],
   "source": [
    "birth_dff['지역']=birth_dff['구별']+'_'+birth_dff['동별']\n",
    "birth_dff = birth_dff.drop(columns=['구별','동별'], axis=1)"
   ]
  },
  {
   "cell_type": "markdown",
   "metadata": {},
   "source": [
    "birth_dff.info()"
   ]
  },
  {
   "cell_type": "markdown",
   "metadata": {},
   "source": [
    "## 1.2 혼인 증감률 변수 생성 \n",
    "> 2개정도의 결측치 있었던 행정동을 엑셀에서 해당 행정구 평균값으로 이미 채워놓은 상태\n",
    "\n",
    "> 2018,2019,2020,2021년도 행정동별 혼인 신고수 데이터를 활용하여 연간 평균 성장률를 계산해 파생 변수 생성 "
   ]
  },
  {
   "cell_type": "code",
   "execution_count": 19,
   "metadata": {},
   "outputs": [],
   "source": [
    "df = pd.read_csv('./혼인_연간평균성장율.csv')"
   ]
  },
  {
   "cell_type": "code",
   "execution_count": 20,
   "metadata": {},
   "outputs": [
    {
     "data": {
      "text/html": [
       "<div>\n",
       "<style scoped>\n",
       "    .dataframe tbody tr th:only-of-type {\n",
       "        vertical-align: middle;\n",
       "    }\n",
       "\n",
       "    .dataframe tbody tr th {\n",
       "        vertical-align: top;\n",
       "    }\n",
       "\n",
       "    .dataframe thead th {\n",
       "        text-align: right;\n",
       "    }\n",
       "</style>\n",
       "<table border=\"1\" class=\"dataframe\">\n",
       "  <thead>\n",
       "    <tr style=\"text-align: right;\">\n",
       "      <th></th>\n",
       "      <th>구별</th>\n",
       "      <th>동별</th>\n",
       "      <th>2018</th>\n",
       "      <th>2019</th>\n",
       "      <th>2020</th>\n",
       "      <th>2021</th>\n",
       "      <th>증감율1</th>\n",
       "      <th>증감율2</th>\n",
       "      <th>증감율3</th>\n",
       "      <th>AAGR</th>\n",
       "      <th>AAGR_percentage</th>\n",
       "    </tr>\n",
       "  </thead>\n",
       "  <tbody>\n",
       "    <tr>\n",
       "      <th>0</th>\n",
       "      <td>종로구</td>\n",
       "      <td>사직동</td>\n",
       "      <td>40</td>\n",
       "      <td>35</td>\n",
       "      <td>40</td>\n",
       "      <td>42</td>\n",
       "      <td>-12.50%</td>\n",
       "      <td>14.29%</td>\n",
       "      <td>5.00%</td>\n",
       "      <td>0.02</td>\n",
       "      <td>2.26%</td>\n",
       "    </tr>\n",
       "    <tr>\n",
       "      <th>1</th>\n",
       "      <td>종로구</td>\n",
       "      <td>삼청동</td>\n",
       "      <td>11</td>\n",
       "      <td>18</td>\n",
       "      <td>22</td>\n",
       "      <td>11</td>\n",
       "      <td>63.64%</td>\n",
       "      <td>22.22%</td>\n",
       "      <td>-50.00%</td>\n",
       "      <td>0.12</td>\n",
       "      <td>11.95%</td>\n",
       "    </tr>\n",
       "    <tr>\n",
       "      <th>2</th>\n",
       "      <td>종로구</td>\n",
       "      <td>부암동</td>\n",
       "      <td>38</td>\n",
       "      <td>34</td>\n",
       "      <td>34</td>\n",
       "      <td>35</td>\n",
       "      <td>-10.53%</td>\n",
       "      <td>0.00%</td>\n",
       "      <td>2.94%</td>\n",
       "      <td>-0.03</td>\n",
       "      <td>-2.53%</td>\n",
       "    </tr>\n",
       "    <tr>\n",
       "      <th>3</th>\n",
       "      <td>종로구</td>\n",
       "      <td>평창동</td>\n",
       "      <td>69</td>\n",
       "      <td>63</td>\n",
       "      <td>58</td>\n",
       "      <td>46</td>\n",
       "      <td>-8.70%</td>\n",
       "      <td>-7.94%</td>\n",
       "      <td>-20.69%</td>\n",
       "      <td>-0.12</td>\n",
       "      <td>-12.44%</td>\n",
       "    </tr>\n",
       "    <tr>\n",
       "      <th>4</th>\n",
       "      <td>종로구</td>\n",
       "      <td>무악동</td>\n",
       "      <td>24</td>\n",
       "      <td>18</td>\n",
       "      <td>18</td>\n",
       "      <td>17</td>\n",
       "      <td>-25.00%</td>\n",
       "      <td>0.00%</td>\n",
       "      <td>-5.56%</td>\n",
       "      <td>-0.10</td>\n",
       "      <td>-10.19%</td>\n",
       "    </tr>\n",
       "  </tbody>\n",
       "</table>\n",
       "</div>"
      ],
      "text/plain": [
       "    구별   동별  2018  2019  2020  2021     증감율1    증감율2     증감율3  AAGR  \\\n",
       "0  종로구  사직동    40    35    40    42  -12.50%  14.29%    5.00%  0.02   \n",
       "1  종로구  삼청동    11    18    22    11   63.64%  22.22%  -50.00%  0.12   \n",
       "2  종로구  부암동    38    34    34    35  -10.53%   0.00%    2.94% -0.03   \n",
       "3  종로구  평창동    69    63    58    46   -8.70%  -7.94%  -20.69% -0.12   \n",
       "4  종로구  무악동    24    18    18    17  -25.00%   0.00%   -5.56% -0.10   \n",
       "\n",
       "  AAGR_percentage  \n",
       "0           2.26%  \n",
       "1          11.95%  \n",
       "2          -2.53%  \n",
       "3         -12.44%  \n",
       "4         -10.19%  "
      ]
     },
     "execution_count": 20,
     "metadata": {},
     "output_type": "execute_result"
    }
   ],
   "source": [
    "df.head()"
   ]
  },
  {
   "cell_type": "code",
   "execution_count": 21,
   "metadata": {},
   "outputs": [
    {
     "name": "stdout",
     "output_type": "stream",
     "text": [
      "<class 'pandas.core.frame.DataFrame'>\n",
      "RangeIndex: 427 entries, 0 to 426\n",
      "Data columns (total 11 columns):\n",
      " #   Column           Non-Null Count  Dtype  \n",
      "---  ------           --------------  -----  \n",
      " 0   구별               427 non-null    object \n",
      " 1   동별               427 non-null    object \n",
      " 2   2018             427 non-null    int64  \n",
      " 3   2019             427 non-null    int64  \n",
      " 4   2020             427 non-null    int64  \n",
      " 5   2021             427 non-null    int64  \n",
      " 6   증감율1             427 non-null    object \n",
      " 7   증감율2             427 non-null    object \n",
      " 8   증감율3             427 non-null    object \n",
      " 9   AAGR             427 non-null    float64\n",
      " 10  AAGR_percentage  427 non-null    object \n",
      "dtypes: float64(1), int64(4), object(6)\n",
      "memory usage: 36.8+ KB\n"
     ]
    }
   ],
   "source": [
    "df.info()"
   ]
  },
  {
   "cell_type": "code",
   "execution_count": 22,
   "metadata": {},
   "outputs": [],
   "source": [
    "married_df = df[['구별', '동별','AAGR']].copy()"
   ]
  },
  {
   "cell_type": "code",
   "execution_count": 23,
   "metadata": {},
   "outputs": [
    {
     "data": {
      "text/html": [
       "<div>\n",
       "<style scoped>\n",
       "    .dataframe tbody tr th:only-of-type {\n",
       "        vertical-align: middle;\n",
       "    }\n",
       "\n",
       "    .dataframe tbody tr th {\n",
       "        vertical-align: top;\n",
       "    }\n",
       "\n",
       "    .dataframe thead th {\n",
       "        text-align: right;\n",
       "    }\n",
       "</style>\n",
       "<table border=\"1\" class=\"dataframe\">\n",
       "  <thead>\n",
       "    <tr style=\"text-align: right;\">\n",
       "      <th></th>\n",
       "      <th>AAGR</th>\n",
       "      <th>지역</th>\n",
       "    </tr>\n",
       "  </thead>\n",
       "  <tbody>\n",
       "    <tr>\n",
       "      <th>0</th>\n",
       "      <td>0.02</td>\n",
       "      <td>종로구_사직동</td>\n",
       "    </tr>\n",
       "    <tr>\n",
       "      <th>1</th>\n",
       "      <td>0.12</td>\n",
       "      <td>종로구_삼청동</td>\n",
       "    </tr>\n",
       "    <tr>\n",
       "      <th>2</th>\n",
       "      <td>-0.03</td>\n",
       "      <td>종로구_부암동</td>\n",
       "    </tr>\n",
       "    <tr>\n",
       "      <th>3</th>\n",
       "      <td>-0.12</td>\n",
       "      <td>종로구_평창동</td>\n",
       "    </tr>\n",
       "    <tr>\n",
       "      <th>4</th>\n",
       "      <td>-0.10</td>\n",
       "      <td>종로구_무악동</td>\n",
       "    </tr>\n",
       "  </tbody>\n",
       "</table>\n",
       "</div>"
      ],
      "text/plain": [
       "   AAGR       지역\n",
       "0  0.02  종로구_사직동\n",
       "1  0.12  종로구_삼청동\n",
       "2 -0.03  종로구_부암동\n",
       "3 -0.12  종로구_평창동\n",
       "4 -0.10  종로구_무악동"
      ]
     },
     "execution_count": 23,
     "metadata": {},
     "output_type": "execute_result"
    }
   ],
   "source": [
    "married_df['지역']=married_df.구별+'_'+married_df.동별\n",
    "married_df = married_df.drop(columns=['구별','동별'], axis=1)\n",
    "married_df.head()"
   ]
  },
  {
   "cell_type": "code",
   "execution_count": 24,
   "metadata": {},
   "outputs": [],
   "source": [
    "birth_dff.rename(columns = {'AAGR':'AAGR_birth'}, inplace = True)\n",
    "married_df.rename(columns = {'AAGR':'AAGR_married'}, inplace = True)"
   ]
  },
  {
   "cell_type": "markdown",
   "metadata": {},
   "source": [
    "## 1.3 영유아 대비 어린이집 정원 데이터"
   ]
  },
  {
   "cell_type": "code",
   "execution_count": 25,
   "metadata": {},
   "outputs": [
    {
     "data": {
      "text/html": [
       "<div>\n",
       "<style scoped>\n",
       "    .dataframe tbody tr th:only-of-type {\n",
       "        vertical-align: middle;\n",
       "    }\n",
       "\n",
       "    .dataframe tbody tr th {\n",
       "        vertical-align: top;\n",
       "    }\n",
       "\n",
       "    .dataframe thead th {\n",
       "        text-align: right;\n",
       "    }\n",
       "</style>\n",
       "<table border=\"1\" class=\"dataframe\">\n",
       "  <thead>\n",
       "    <tr style=\"text-align: right;\">\n",
       "      <th></th>\n",
       "      <th>행정기관코드</th>\n",
       "      <th>행정구</th>\n",
       "      <th>행정동</th>\n",
       "      <th>영유아수</th>\n",
       "      <th>정원수</th>\n",
       "      <th>영유아/정원</th>\n",
       "    </tr>\n",
       "  </thead>\n",
       "  <tbody>\n",
       "    <tr>\n",
       "      <th>0</th>\n",
       "      <td>1168051000</td>\n",
       "      <td>강남구</td>\n",
       "      <td>신사동</td>\n",
       "      <td>639</td>\n",
       "      <td>276</td>\n",
       "      <td>2.32</td>\n",
       "    </tr>\n",
       "    <tr>\n",
       "      <th>1</th>\n",
       "      <td>1168052100</td>\n",
       "      <td>강남구</td>\n",
       "      <td>논현1동</td>\n",
       "      <td>488</td>\n",
       "      <td>291</td>\n",
       "      <td>1.68</td>\n",
       "    </tr>\n",
       "    <tr>\n",
       "      <th>2</th>\n",
       "      <td>1168053100</td>\n",
       "      <td>강남구</td>\n",
       "      <td>논현2동</td>\n",
       "      <td>731</td>\n",
       "      <td>223</td>\n",
       "      <td>3.28</td>\n",
       "    </tr>\n",
       "    <tr>\n",
       "      <th>3</th>\n",
       "      <td>1168054500</td>\n",
       "      <td>강남구</td>\n",
       "      <td>압구정동</td>\n",
       "      <td>1396</td>\n",
       "      <td>306</td>\n",
       "      <td>4.56</td>\n",
       "    </tr>\n",
       "    <tr>\n",
       "      <th>4</th>\n",
       "      <td>1168056500</td>\n",
       "      <td>강남구</td>\n",
       "      <td>청담동</td>\n",
       "      <td>1379</td>\n",
       "      <td>360</td>\n",
       "      <td>3.83</td>\n",
       "    </tr>\n",
       "  </tbody>\n",
       "</table>\n",
       "</div>"
      ],
      "text/plain": [
       "       행정기관코드  행정구   행정동  영유아수  정원수  영유아/정원\n",
       "0  1168051000  강남구   신사동   639  276    2.32\n",
       "1  1168052100  강남구  논현1동   488  291    1.68\n",
       "2  1168053100  강남구  논현2동   731  223    3.28\n",
       "3  1168054500  강남구  압구정동  1396  306    4.56\n",
       "4  1168056500  강남구   청담동  1379  360    3.83"
      ]
     },
     "execution_count": 25,
     "metadata": {},
     "output_type": "execute_result"
    }
   ],
   "source": [
    "child_df = pd.read_csv('./행정동단위_영유아_정원_vf.csv', index_col = 0)\n",
    "child_df.head()"
   ]
  },
  {
   "cell_type": "code",
   "execution_count": 26,
   "metadata": {},
   "outputs": [],
   "source": [
    "child_dff = child_df[['행정구','행정동', '영유아/정원']].copy()"
   ]
  },
  {
   "cell_type": "code",
   "execution_count": 27,
   "metadata": {},
   "outputs": [
    {
     "data": {
      "text/html": [
       "<div>\n",
       "<style scoped>\n",
       "    .dataframe tbody tr th:only-of-type {\n",
       "        vertical-align: middle;\n",
       "    }\n",
       "\n",
       "    .dataframe tbody tr th {\n",
       "        vertical-align: top;\n",
       "    }\n",
       "\n",
       "    .dataframe thead th {\n",
       "        text-align: right;\n",
       "    }\n",
       "</style>\n",
       "<table border=\"1\" class=\"dataframe\">\n",
       "  <thead>\n",
       "    <tr style=\"text-align: right;\">\n",
       "      <th></th>\n",
       "      <th>영유아/정원</th>\n",
       "      <th>지역</th>\n",
       "    </tr>\n",
       "  </thead>\n",
       "  <tbody>\n",
       "    <tr>\n",
       "      <th>0</th>\n",
       "      <td>2.32</td>\n",
       "      <td>강남구_신사동</td>\n",
       "    </tr>\n",
       "    <tr>\n",
       "      <th>1</th>\n",
       "      <td>1.68</td>\n",
       "      <td>강남구_논현1동</td>\n",
       "    </tr>\n",
       "    <tr>\n",
       "      <th>2</th>\n",
       "      <td>3.28</td>\n",
       "      <td>강남구_논현2동</td>\n",
       "    </tr>\n",
       "    <tr>\n",
       "      <th>3</th>\n",
       "      <td>4.56</td>\n",
       "      <td>강남구_압구정동</td>\n",
       "    </tr>\n",
       "    <tr>\n",
       "      <th>4</th>\n",
       "      <td>3.83</td>\n",
       "      <td>강남구_청담동</td>\n",
       "    </tr>\n",
       "  </tbody>\n",
       "</table>\n",
       "</div>"
      ],
      "text/plain": [
       "   영유아/정원        지역\n",
       "0    2.32   강남구_신사동\n",
       "1    1.68  강남구_논현1동\n",
       "2    3.28  강남구_논현2동\n",
       "3    4.56  강남구_압구정동\n",
       "4    3.83   강남구_청담동"
      ]
     },
     "execution_count": 27,
     "metadata": {},
     "output_type": "execute_result"
    }
   ],
   "source": [
    "child_dff['지역']=child_dff.행정구+'_'+child_dff.행정동\n",
    "child_dff = child_dff.drop(columns=['행정구','행정동'], axis=1)\n",
    "child_dff.head()"
   ]
  },
  {
   "cell_type": "code",
   "execution_count": 28,
   "metadata": {},
   "outputs": [
    {
     "data": {
      "text/html": [
       "<div>\n",
       "<style scoped>\n",
       "    .dataframe tbody tr th:only-of-type {\n",
       "        vertical-align: middle;\n",
       "    }\n",
       "\n",
       "    .dataframe tbody tr th {\n",
       "        vertical-align: top;\n",
       "    }\n",
       "\n",
       "    .dataframe thead th {\n",
       "        text-align: right;\n",
       "    }\n",
       "</style>\n",
       "<table border=\"1\" class=\"dataframe\">\n",
       "  <thead>\n",
       "    <tr style=\"text-align: right;\">\n",
       "      <th></th>\n",
       "      <th>행정기관코드</th>\n",
       "      <th>행정구</th>\n",
       "      <th>행정동</th>\n",
       "      <th>영유아수</th>\n",
       "      <th>정원수</th>\n",
       "      <th>영유아/정원</th>\n",
       "    </tr>\n",
       "  </thead>\n",
       "  <tbody>\n",
       "    <tr>\n",
       "      <th>418</th>\n",
       "      <td>1126063000</td>\n",
       "      <td>중랑구</td>\n",
       "      <td>묵2동</td>\n",
       "      <td>684</td>\n",
       "      <td>401</td>\n",
       "      <td>1.71</td>\n",
       "    </tr>\n",
       "    <tr>\n",
       "      <th>419</th>\n",
       "      <td>1126065500</td>\n",
       "      <td>중랑구</td>\n",
       "      <td>망우본동</td>\n",
       "      <td>2045</td>\n",
       "      <td>644</td>\n",
       "      <td>3.18</td>\n",
       "    </tr>\n",
       "    <tr>\n",
       "      <th>420</th>\n",
       "      <td>1126066000</td>\n",
       "      <td>중랑구</td>\n",
       "      <td>망우3동</td>\n",
       "      <td>453</td>\n",
       "      <td>536</td>\n",
       "      <td>0.85</td>\n",
       "    </tr>\n",
       "    <tr>\n",
       "      <th>421</th>\n",
       "      <td>1126068000</td>\n",
       "      <td>중랑구</td>\n",
       "      <td>신내1동</td>\n",
       "      <td>1844</td>\n",
       "      <td>1794</td>\n",
       "      <td>1.03</td>\n",
       "    </tr>\n",
       "    <tr>\n",
       "      <th>422</th>\n",
       "      <td>1126069000</td>\n",
       "      <td>중랑구</td>\n",
       "      <td>신내2동</td>\n",
       "      <td>834</td>\n",
       "      <td>681</td>\n",
       "      <td>1.22</td>\n",
       "    </tr>\n",
       "  </tbody>\n",
       "</table>\n",
       "</div>"
      ],
      "text/plain": [
       "         행정기관코드  행정구   행정동  영유아수   정원수  영유아/정원\n",
       "418  1126063000  중랑구   묵2동   684   401    1.71\n",
       "419  1126065500  중랑구  망우본동  2045   644    3.18\n",
       "420  1126066000  중랑구  망우3동   453   536    0.85\n",
       "421  1126068000  중랑구  신내1동  1844  1794    1.03\n",
       "422  1126069000  중랑구  신내2동   834   681    1.22"
      ]
     },
     "execution_count": 28,
     "metadata": {},
     "output_type": "execute_result"
    }
   ],
   "source": [
    "child_df.tail()"
   ]
  },
  {
   "cell_type": "code",
   "execution_count": 29,
   "metadata": {},
   "outputs": [
    {
     "name": "stdout",
     "output_type": "stream",
     "text": [
      "<class 'pandas.core.frame.DataFrame'>\n",
      "Int64Index: 423 entries, 0 to 422\n",
      "Data columns (total 2 columns):\n",
      " #   Column  Non-Null Count  Dtype  \n",
      "---  ------  --------------  -----  \n",
      " 0   영유아/정원  423 non-null    float64\n",
      " 1   지역      423 non-null    object \n",
      "dtypes: float64(1), object(1)\n",
      "memory usage: 9.9+ KB\n"
     ]
    }
   ],
   "source": [
    "child_dff.info()"
   ]
  },
  {
   "cell_type": "markdown",
   "metadata": {},
   "source": [
    "## 1.4 가구 평균 연소득"
   ]
  },
  {
   "cell_type": "code",
   "execution_count": 30,
   "metadata": {},
   "outputs": [
    {
     "data": {
      "text/html": [
       "<div>\n",
       "<style scoped>\n",
       "    .dataframe tbody tr th:only-of-type {\n",
       "        vertical-align: middle;\n",
       "    }\n",
       "\n",
       "    .dataframe tbody tr th {\n",
       "        vertical-align: top;\n",
       "    }\n",
       "\n",
       "    .dataframe thead th {\n",
       "        text-align: right;\n",
       "    }\n",
       "</style>\n",
       "<table border=\"1\" class=\"dataframe\">\n",
       "  <thead>\n",
       "    <tr style=\"text-align: right;\">\n",
       "      <th></th>\n",
       "      <th>도시</th>\n",
       "      <th>행정구</th>\n",
       "      <th>행정동</th>\n",
       "      <th>평균소득</th>\n",
       "    </tr>\n",
       "  </thead>\n",
       "  <tbody>\n",
       "    <tr>\n",
       "      <th>0</th>\n",
       "      <td>서울특별시</td>\n",
       "      <td>종로구</td>\n",
       "      <td>청운효자동</td>\n",
       "      <td>9049.02</td>\n",
       "    </tr>\n",
       "    <tr>\n",
       "      <th>1</th>\n",
       "      <td>서울특별시</td>\n",
       "      <td>종로구</td>\n",
       "      <td>청운효자동</td>\n",
       "      <td>5544.59</td>\n",
       "    </tr>\n",
       "    <tr>\n",
       "      <th>2</th>\n",
       "      <td>서울특별시</td>\n",
       "      <td>종로구</td>\n",
       "      <td>청운효자동</td>\n",
       "      <td>7078.69</td>\n",
       "    </tr>\n",
       "    <tr>\n",
       "      <th>3</th>\n",
       "      <td>서울특별시</td>\n",
       "      <td>종로구</td>\n",
       "      <td>청운효자동</td>\n",
       "      <td>5403.79</td>\n",
       "    </tr>\n",
       "    <tr>\n",
       "      <th>4</th>\n",
       "      <td>서울특별시</td>\n",
       "      <td>종로구</td>\n",
       "      <td>청운효자동</td>\n",
       "      <td>5345.71</td>\n",
       "    </tr>\n",
       "  </tbody>\n",
       "</table>\n",
       "</div>"
      ],
      "text/plain": [
       "      도시  행정구    행정동     평균소득\n",
       "0  서울특별시  종로구  청운효자동  9049.02\n",
       "1  서울특별시  종로구  청운효자동  5544.59\n",
       "2  서울특별시  종로구  청운효자동  7078.69\n",
       "3  서울특별시  종로구  청운효자동  5403.79\n",
       "4  서울특별시  종로구  청운효자동  5345.71"
      ]
     },
     "execution_count": 30,
     "metadata": {},
     "output_type": "execute_result"
    }
   ],
   "source": [
    "income_df = pd.read_csv('./소득정보.csv')\n",
    "income_df.head()"
   ]
  },
  {
   "cell_type": "markdown",
   "metadata": {},
   "source": [
    "### 1.4.1 결측치가 있는 행정동은 해당 행정구 평균값으로 채우기"
   ]
  },
  {
   "cell_type": "code",
   "execution_count": 31,
   "metadata": {},
   "outputs": [],
   "source": [
    "jamsil4 = {'도시':'서울특별시','행정구':'송파구','행정동': '잠실4동', '평균소득': None}\n",
    "\n",
    "income_df = income_df.append(jamsil4, ignore_index = True)"
   ]
  },
  {
   "cell_type": "code",
   "execution_count": 32,
   "metadata": {},
   "outputs": [],
   "source": [
    "sangil1 = {'도시':'서울특별시','행정구':'강동구','행정동': '상일1동', '평균소득': None}\n",
    "\n",
    "income_df = income_df.append(sangil1, ignore_index = True)"
   ]
  },
  {
   "cell_type": "code",
   "execution_count": 33,
   "metadata": {},
   "outputs": [],
   "source": [
    "nan_index = list(income_df[income_df.isna().any(axis=1)].index)\n",
    "nan_index\n",
    "\n",
    "for index in nan_index:\n",
    "    gu = income_df.loc[index,'행정구']\n",
    "    income_df.at[index,'평균소득'] = round(income_df[income_df['행정구']==gu].평균소득.mean(),2)"
   ]
  },
  {
   "cell_type": "code",
   "execution_count": 34,
   "metadata": {},
   "outputs": [],
   "source": [
    "income_df['지역']=income_df.행정구+'_'+income_df.행정동\n",
    "income_df = income_df.drop(columns=['도시','행정구','행정동'], axis=1)"
   ]
  },
  {
   "cell_type": "code",
   "execution_count": 35,
   "metadata": {},
   "outputs": [
    {
     "data": {
      "text/html": [
       "<div>\n",
       "<style scoped>\n",
       "    .dataframe tbody tr th:only-of-type {\n",
       "        vertical-align: middle;\n",
       "    }\n",
       "\n",
       "    .dataframe tbody tr th {\n",
       "        vertical-align: top;\n",
       "    }\n",
       "\n",
       "    .dataframe thead th {\n",
       "        text-align: right;\n",
       "    }\n",
       "</style>\n",
       "<table border=\"1\" class=\"dataframe\">\n",
       "  <thead>\n",
       "    <tr style=\"text-align: right;\">\n",
       "      <th></th>\n",
       "      <th>평균소득</th>\n",
       "    </tr>\n",
       "    <tr>\n",
       "      <th>지역</th>\n",
       "      <th></th>\n",
       "    </tr>\n",
       "  </thead>\n",
       "  <tbody>\n",
       "    <tr>\n",
       "      <th>강남구_개포1동</th>\n",
       "      <td>8492.840</td>\n",
       "    </tr>\n",
       "    <tr>\n",
       "      <th>강남구_개포2동</th>\n",
       "      <td>9551.995</td>\n",
       "    </tr>\n",
       "    <tr>\n",
       "      <th>강남구_개포4동</th>\n",
       "      <td>8492.840</td>\n",
       "    </tr>\n",
       "    <tr>\n",
       "      <th>강남구_논현1동</th>\n",
       "      <td>13078.130</td>\n",
       "    </tr>\n",
       "    <tr>\n",
       "      <th>강남구_논현2동</th>\n",
       "      <td>13078.130</td>\n",
       "    </tr>\n",
       "    <tr>\n",
       "      <th>...</th>\n",
       "      <td>...</td>\n",
       "    </tr>\n",
       "    <tr>\n",
       "      <th>중랑구_상봉2동</th>\n",
       "      <td>3987.760</td>\n",
       "    </tr>\n",
       "    <tr>\n",
       "      <th>중랑구_신내1동</th>\n",
       "      <td>3837.790</td>\n",
       "    </tr>\n",
       "    <tr>\n",
       "      <th>중랑구_신내2동</th>\n",
       "      <td>3837.790</td>\n",
       "    </tr>\n",
       "    <tr>\n",
       "      <th>중랑구_중화1동</th>\n",
       "      <td>3967.030</td>\n",
       "    </tr>\n",
       "    <tr>\n",
       "      <th>중랑구_중화2동</th>\n",
       "      <td>3967.030</td>\n",
       "    </tr>\n",
       "  </tbody>\n",
       "</table>\n",
       "<p>425 rows × 1 columns</p>\n",
       "</div>"
      ],
      "text/plain": [
       "               평균소득\n",
       "지역                 \n",
       "강남구_개포1동   8492.840\n",
       "강남구_개포2동   9551.995\n",
       "강남구_개포4동   8492.840\n",
       "강남구_논현1동  13078.130\n",
       "강남구_논현2동  13078.130\n",
       "...             ...\n",
       "중랑구_상봉2동   3987.760\n",
       "중랑구_신내1동   3837.790\n",
       "중랑구_신내2동   3837.790\n",
       "중랑구_중화1동   3967.030\n",
       "중랑구_중화2동   3967.030\n",
       "\n",
       "[425 rows x 1 columns]"
      ]
     },
     "execution_count": 35,
     "metadata": {},
     "output_type": "execute_result"
    }
   ],
   "source": [
    "income_df = pd.pivot_table(income_df, \n",
    "                 index= '지역' ,\n",
    "                 values= '평균소득'    ,\n",
    "                 aggfunc= 'mean'  )\n",
    "\n",
    "income_df"
   ]
  },
  {
   "cell_type": "code",
   "execution_count": 36,
   "metadata": {},
   "outputs": [],
   "source": [
    "income_df.reset_index(inplace=True)"
   ]
  },
  {
   "cell_type": "code",
   "execution_count": 37,
   "metadata": {},
   "outputs": [],
   "source": [
    "income_df['지역'] = income_df['지역'].apply(lambda x : x.replace(\"·\", \".\"))"
   ]
  },
  {
   "cell_type": "markdown",
   "metadata": {},
   "source": [
    "------"
   ]
  },
  {
   "cell_type": "markdown",
   "metadata": {},
   "source": [
    "# 2. 데이터셋 결합"
   ]
  },
  {
   "cell_type": "code",
   "execution_count": 38,
   "metadata": {},
   "outputs": [
    {
     "data": {
      "text/html": [
       "<div>\n",
       "<style scoped>\n",
       "    .dataframe tbody tr th:only-of-type {\n",
       "        vertical-align: middle;\n",
       "    }\n",
       "\n",
       "    .dataframe tbody tr th {\n",
       "        vertical-align: top;\n",
       "    }\n",
       "\n",
       "    .dataframe thead th {\n",
       "        text-align: right;\n",
       "    }\n",
       "</style>\n",
       "<table border=\"1\" class=\"dataframe\">\n",
       "  <thead>\n",
       "    <tr style=\"text-align: right;\">\n",
       "      <th></th>\n",
       "      <th>AAGR_birth</th>\n",
       "      <th>지역</th>\n",
       "      <th>AAGR_married</th>\n",
       "    </tr>\n",
       "  </thead>\n",
       "  <tbody>\n",
       "    <tr>\n",
       "      <th>0</th>\n",
       "      <td>0.03</td>\n",
       "      <td>종로구_사직동</td>\n",
       "      <td>0.02</td>\n",
       "    </tr>\n",
       "    <tr>\n",
       "      <th>1</th>\n",
       "      <td>-0.02</td>\n",
       "      <td>종로구_삼청동</td>\n",
       "      <td>0.12</td>\n",
       "    </tr>\n",
       "    <tr>\n",
       "      <th>2</th>\n",
       "      <td>0.04</td>\n",
       "      <td>종로구_부암동</td>\n",
       "      <td>-0.03</td>\n",
       "    </tr>\n",
       "    <tr>\n",
       "      <th>3</th>\n",
       "      <td>-0.09</td>\n",
       "      <td>종로구_평창동</td>\n",
       "      <td>-0.12</td>\n",
       "    </tr>\n",
       "    <tr>\n",
       "      <th>4</th>\n",
       "      <td>0.67</td>\n",
       "      <td>종로구_무악동</td>\n",
       "      <td>-0.10</td>\n",
       "    </tr>\n",
       "  </tbody>\n",
       "</table>\n",
       "</div>"
      ],
      "text/plain": [
       "   AAGR_birth       지역  AAGR_married\n",
       "0        0.03  종로구_사직동          0.02\n",
       "1       -0.02  종로구_삼청동          0.12\n",
       "2        0.04  종로구_부암동         -0.03\n",
       "3       -0.09  종로구_평창동         -0.12\n",
       "4        0.67  종로구_무악동         -0.10"
      ]
     },
     "execution_count": 38,
     "metadata": {},
     "output_type": "execute_result"
    }
   ],
   "source": [
    "combined_df = birth_dff.merge(married_df,how='inner',on='지역')\n",
    "combined_df.head()"
   ]
  },
  {
   "cell_type": "code",
   "execution_count": 39,
   "metadata": {},
   "outputs": [
    {
     "data": {
      "text/html": [
       "<div>\n",
       "<style scoped>\n",
       "    .dataframe tbody tr th:only-of-type {\n",
       "        vertical-align: middle;\n",
       "    }\n",
       "\n",
       "    .dataframe tbody tr th {\n",
       "        vertical-align: top;\n",
       "    }\n",
       "\n",
       "    .dataframe thead th {\n",
       "        text-align: right;\n",
       "    }\n",
       "</style>\n",
       "<table border=\"1\" class=\"dataframe\">\n",
       "  <thead>\n",
       "    <tr style=\"text-align: right;\">\n",
       "      <th></th>\n",
       "      <th>AAGR_birth</th>\n",
       "      <th>지역</th>\n",
       "      <th>AAGR_married</th>\n",
       "      <th>영유아/정원</th>\n",
       "    </tr>\n",
       "  </thead>\n",
       "  <tbody>\n",
       "    <tr>\n",
       "      <th>413</th>\n",
       "      <td>-0.04</td>\n",
       "      <td>강동구_천호1동</td>\n",
       "      <td>-0.15</td>\n",
       "      <td>1.30</td>\n",
       "    </tr>\n",
       "    <tr>\n",
       "      <th>414</th>\n",
       "      <td>-0.02</td>\n",
       "      <td>강동구_천호2동</td>\n",
       "      <td>0.11</td>\n",
       "      <td>1.58</td>\n",
       "    </tr>\n",
       "    <tr>\n",
       "      <th>415</th>\n",
       "      <td>-0.09</td>\n",
       "      <td>강동구_천호3동</td>\n",
       "      <td>-0.10</td>\n",
       "      <td>1.55</td>\n",
       "    </tr>\n",
       "    <tr>\n",
       "      <th>416</th>\n",
       "      <td>-0.04</td>\n",
       "      <td>강동구_성내1동</td>\n",
       "      <td>-0.29</td>\n",
       "      <td>1.45</td>\n",
       "    </tr>\n",
       "    <tr>\n",
       "      <th>417</th>\n",
       "      <td>-0.12</td>\n",
       "      <td>강동구_성내2동</td>\n",
       "      <td>-0.10</td>\n",
       "      <td>1.30</td>\n",
       "    </tr>\n",
       "    <tr>\n",
       "      <th>418</th>\n",
       "      <td>-0.17</td>\n",
       "      <td>강동구_성내3동</td>\n",
       "      <td>0.18</td>\n",
       "      <td>1.32</td>\n",
       "    </tr>\n",
       "    <tr>\n",
       "      <th>419</th>\n",
       "      <td>-0.02</td>\n",
       "      <td>강동구_둔촌2동</td>\n",
       "      <td>0.04</td>\n",
       "      <td>2.03</td>\n",
       "    </tr>\n",
       "    <tr>\n",
       "      <th>420</th>\n",
       "      <td>-0.09</td>\n",
       "      <td>강동구_길동</td>\n",
       "      <td>-0.06</td>\n",
       "      <td>1.78</td>\n",
       "    </tr>\n",
       "    <tr>\n",
       "      <th>421</th>\n",
       "      <td>0.35</td>\n",
       "      <td>강동구_강일동</td>\n",
       "      <td>0.01</td>\n",
       "      <td>2.07</td>\n",
       "    </tr>\n",
       "    <tr>\n",
       "      <th>422</th>\n",
       "      <td>-0.09</td>\n",
       "      <td>구로구_항동</td>\n",
       "      <td>1.40</td>\n",
       "      <td>2.51</td>\n",
       "    </tr>\n",
       "  </tbody>\n",
       "</table>\n",
       "</div>"
      ],
      "text/plain": [
       "     AAGR_birth        지역  AAGR_married  영유아/정원\n",
       "413       -0.04  강동구_천호1동         -0.15    1.30\n",
       "414       -0.02  강동구_천호2동          0.11    1.58\n",
       "415       -0.09  강동구_천호3동         -0.10    1.55\n",
       "416       -0.04  강동구_성내1동         -0.29    1.45\n",
       "417       -0.12  강동구_성내2동         -0.10    1.30\n",
       "418       -0.17  강동구_성내3동          0.18    1.32\n",
       "419       -0.02  강동구_둔촌2동          0.04    2.03\n",
       "420       -0.09    강동구_길동         -0.06    1.78\n",
       "421        0.35   강동구_강일동          0.01    2.07\n",
       "422       -0.09    구로구_항동          1.40    2.51"
      ]
     },
     "execution_count": 39,
     "metadata": {},
     "output_type": "execute_result"
    }
   ],
   "source": [
    "combined_df = combined_df.merge(child_dff,how='inner',on='지역')\n",
    "combined_df.tail(10)"
   ]
  },
  {
   "cell_type": "code",
   "execution_count": 40,
   "metadata": {},
   "outputs": [],
   "source": [
    "combined_df = combined_df.merge(income_df,how='inner',on='지역')"
   ]
  },
  {
   "cell_type": "code",
   "execution_count": 41,
   "metadata": {},
   "outputs": [
    {
     "name": "stdout",
     "output_type": "stream",
     "text": [
      "<class 'pandas.core.frame.DataFrame'>\n",
      "Int64Index: 421 entries, 0 to 420\n",
      "Data columns (total 5 columns):\n",
      " #   Column        Non-Null Count  Dtype  \n",
      "---  ------        --------------  -----  \n",
      " 0   AAGR_birth    421 non-null    float64\n",
      " 1   지역            421 non-null    object \n",
      " 2   AAGR_married  421 non-null    float64\n",
      " 3   영유아/정원        421 non-null    float64\n",
      " 4   평균소득          421 non-null    float64\n",
      "dtypes: float64(4), object(1)\n",
      "memory usage: 19.7+ KB\n"
     ]
    }
   ],
   "source": [
    "combined_df.info()"
   ]
  },
  {
   "cell_type": "markdown",
   "metadata": {},
   "source": [
    "-----"
   ]
  },
  {
   "cell_type": "markdown",
   "metadata": {},
   "source": [
    "# 3. 결합 데이터셋에서 거주지 성향 행정동 데이터 추출"
   ]
  },
  {
   "cell_type": "code",
   "execution_count": 42,
   "metadata": {},
   "outputs": [
    {
     "data": {
      "text/html": [
       "<div>\n",
       "<style scoped>\n",
       "    .dataframe tbody tr th:only-of-type {\n",
       "        vertical-align: middle;\n",
       "    }\n",
       "\n",
       "    .dataframe tbody tr th {\n",
       "        vertical-align: top;\n",
       "    }\n",
       "\n",
       "    .dataframe thead th {\n",
       "        text-align: right;\n",
       "    }\n",
       "</style>\n",
       "<table border=\"1\" class=\"dataframe\">\n",
       "  <thead>\n",
       "    <tr style=\"text-align: right;\">\n",
       "      <th></th>\n",
       "      <th>행정기관코드</th>\n",
       "      <th>행정구</th>\n",
       "      <th>행정동</th>\n",
       "      <th>7~10시 기울기</th>\n",
       "    </tr>\n",
       "  </thead>\n",
       "  <tbody>\n",
       "    <tr>\n",
       "      <th>368</th>\n",
       "      <td>1168066000</td>\n",
       "      <td>강남구</td>\n",
       "      <td>개포1동</td>\n",
       "      <td>-186</td>\n",
       "    </tr>\n",
       "    <tr>\n",
       "      <th>378</th>\n",
       "      <td>1168067000</td>\n",
       "      <td>강남구</td>\n",
       "      <td>개포2동</td>\n",
       "      <td>-309</td>\n",
       "    </tr>\n",
       "    <tr>\n",
       "      <th>369</th>\n",
       "      <td>1168069000</td>\n",
       "      <td>강남구</td>\n",
       "      <td>개포4동</td>\n",
       "      <td>-50</td>\n",
       "    </tr>\n",
       "    <tr>\n",
       "      <th>358</th>\n",
       "      <td>1168052100</td>\n",
       "      <td>강남구</td>\n",
       "      <td>논현1동</td>\n",
       "      <td>2991</td>\n",
       "    </tr>\n",
       "    <tr>\n",
       "      <th>359</th>\n",
       "      <td>1168053100</td>\n",
       "      <td>강남구</td>\n",
       "      <td>논현2동</td>\n",
       "      <td>4881</td>\n",
       "    </tr>\n",
       "  </tbody>\n",
       "</table>\n",
       "</div>"
      ],
      "text/plain": [
       "         행정기관코드  행정구   행정동  7~10시 기울기\n",
       "368  1168066000  강남구  개포1동       -186\n",
       "378  1168067000  강남구  개포2동       -309\n",
       "369  1168069000  강남구  개포4동        -50\n",
       "358  1168052100  강남구  논현1동       2991\n",
       "359  1168053100  강남구  논현2동       4881"
      ]
     },
     "execution_count": 42,
     "metadata": {},
     "output_type": "execute_result"
    }
   ],
   "source": [
    "residence_df = pd.read_csv('./거주지.csv',index_col=0)\n",
    "residence_df.head()"
   ]
  },
  {
   "cell_type": "code",
   "execution_count": 43,
   "metadata": {},
   "outputs": [
    {
     "name": "stdout",
     "output_type": "stream",
     "text": [
      "<class 'pandas.core.frame.DataFrame'>\n",
      "Int64Index: 315 entries, 368 to 101\n",
      "Data columns (total 4 columns):\n",
      " #   Column     Non-Null Count  Dtype \n",
      "---  ------     --------------  ----- \n",
      " 0   행정기관코드     315 non-null    int64 \n",
      " 1   행정구        315 non-null    object\n",
      " 2   행정동        315 non-null    object\n",
      " 3   7~10시 기울기  315 non-null    int64 \n",
      "dtypes: int64(2), object(2)\n",
      "memory usage: 12.3+ KB\n"
     ]
    }
   ],
   "source": [
    "residence_df = residence_df[residence_df['7~10시 기울기'] < 0]\n",
    "residence_df.info()"
   ]
  },
  {
   "cell_type": "code",
   "execution_count": 44,
   "metadata": {},
   "outputs": [],
   "source": [
    "residence_df['지역']=residence_df.행정구+'_'+residence_df.행정동\n",
    "residence_df = residence_df.drop(columns=['행정구','행정동'], axis=1)"
   ]
  },
  {
   "cell_type": "code",
   "execution_count": 45,
   "metadata": {},
   "outputs": [],
   "source": [
    "ch = residence_df.merge(combined_df,how='left',on='지역')"
   ]
  },
  {
   "cell_type": "code",
   "execution_count": 46,
   "metadata": {},
   "outputs": [
    {
     "data": {
      "text/html": [
       "<div>\n",
       "<style scoped>\n",
       "    .dataframe tbody tr th:only-of-type {\n",
       "        vertical-align: middle;\n",
       "    }\n",
       "\n",
       "    .dataframe tbody tr th {\n",
       "        vertical-align: top;\n",
       "    }\n",
       "\n",
       "    .dataframe thead th {\n",
       "        text-align: right;\n",
       "    }\n",
       "</style>\n",
       "<table border=\"1\" class=\"dataframe\">\n",
       "  <thead>\n",
       "    <tr style=\"text-align: right;\">\n",
       "      <th></th>\n",
       "      <th>행정기관코드</th>\n",
       "      <th>7~10시 기울기</th>\n",
       "      <th>지역</th>\n",
       "      <th>AAGR_birth</th>\n",
       "      <th>AAGR_married</th>\n",
       "      <th>영유아/정원</th>\n",
       "      <th>평균소득</th>\n",
       "    </tr>\n",
       "  </thead>\n",
       "  <tbody>\n",
       "    <tr>\n",
       "      <th>11</th>\n",
       "      <td>1174069000</td>\n",
       "      <td>-99</td>\n",
       "      <td>강동구_둔촌1동</td>\n",
       "      <td>NaN</td>\n",
       "      <td>NaN</td>\n",
       "      <td>NaN</td>\n",
       "      <td>NaN</td>\n",
       "    </tr>\n",
       "    <tr>\n",
       "      <th>180</th>\n",
       "      <td>1165055000</td>\n",
       "      <td>-120</td>\n",
       "      <td>서초구_반포본동</td>\n",
       "      <td>NaN</td>\n",
       "      <td>NaN</td>\n",
       "      <td>NaN</td>\n",
       "      <td>NaN</td>\n",
       "    </tr>\n",
       "    <tr>\n",
       "      <th>227</th>\n",
       "      <td>1171072000</td>\n",
       "      <td>-47</td>\n",
       "      <td>송파구_잠실7동</td>\n",
       "      <td>NaN</td>\n",
       "      <td>NaN</td>\n",
       "      <td>NaN</td>\n",
       "      <td>NaN</td>\n",
       "    </tr>\n",
       "  </tbody>\n",
       "</table>\n",
       "</div>"
      ],
      "text/plain": [
       "         행정기관코드  7~10시 기울기        지역  AAGR_birth  AAGR_married  영유아/정원  평균소득\n",
       "11   1174069000        -99  강동구_둔촌1동         NaN           NaN     NaN   NaN\n",
       "180  1165055000       -120  서초구_반포본동         NaN           NaN     NaN   NaN\n",
       "227  1171072000        -47  송파구_잠실7동         NaN           NaN     NaN   NaN"
      ]
     },
     "execution_count": 46,
     "metadata": {},
     "output_type": "execute_result"
    }
   ],
   "source": [
    "ch[ch.isna().any(axis=1)]"
   ]
  },
  {
   "cell_type": "markdown",
   "metadata": {},
   "source": [
    "> 이 행정동 3군데에는 어린이집이 없기 때문에 리스트에서 최종적으로 빠진다 "
   ]
  },
  {
   "cell_type": "code",
   "execution_count": 47,
   "metadata": {},
   "outputs": [],
   "source": [
    "combined_df = residence_df.merge(combined_df,how='inner',on='지역')"
   ]
  },
  {
   "cell_type": "code",
   "execution_count": 48,
   "metadata": {},
   "outputs": [],
   "source": [
    "combined_df = combined_df.drop(columns=['행정기관코드','7~10시 기울기'], axis=1)"
   ]
  },
  {
   "cell_type": "code",
   "execution_count": 49,
   "metadata": {},
   "outputs": [
    {
     "name": "stdout",
     "output_type": "stream",
     "text": [
      "<class 'pandas.core.frame.DataFrame'>\n",
      "Int64Index: 312 entries, 0 to 311\n",
      "Data columns (total 5 columns):\n",
      " #   Column        Non-Null Count  Dtype  \n",
      "---  ------        --------------  -----  \n",
      " 0   지역            312 non-null    object \n",
      " 1   AAGR_birth    312 non-null    float64\n",
      " 2   AAGR_married  312 non-null    float64\n",
      " 3   영유아/정원        312 non-null    float64\n",
      " 4   평균소득          312 non-null    float64\n",
      "dtypes: float64(4), object(1)\n",
      "memory usage: 14.6+ KB\n"
     ]
    }
   ],
   "source": [
    "combined_df.info()"
   ]
  },
  {
   "cell_type": "markdown",
   "metadata": {},
   "source": [
    "----"
   ]
  },
  {
   "cell_type": "markdown",
   "metadata": {},
   "source": [
    "# 4. 이상치 확인 및 제거"
   ]
  },
  {
   "cell_type": "code",
   "execution_count": 50,
   "metadata": {},
   "outputs": [
    {
     "data": {
      "text/html": [
       "<div>\n",
       "<style scoped>\n",
       "    .dataframe tbody tr th:only-of-type {\n",
       "        vertical-align: middle;\n",
       "    }\n",
       "\n",
       "    .dataframe tbody tr th {\n",
       "        vertical-align: top;\n",
       "    }\n",
       "\n",
       "    .dataframe thead th {\n",
       "        text-align: right;\n",
       "    }\n",
       "</style>\n",
       "<table border=\"1\" class=\"dataframe\">\n",
       "  <thead>\n",
       "    <tr style=\"text-align: right;\">\n",
       "      <th></th>\n",
       "      <th>AAGR_birth</th>\n",
       "      <th>AAGR_married</th>\n",
       "      <th>영유아/정원</th>\n",
       "      <th>평균소득</th>\n",
       "    </tr>\n",
       "  </thead>\n",
       "  <tbody>\n",
       "    <tr>\n",
       "      <th>count</th>\n",
       "      <td>312.000000</td>\n",
       "      <td>312.000000</td>\n",
       "      <td>312.000000</td>\n",
       "      <td>312.000000</td>\n",
       "    </tr>\n",
       "    <tr>\n",
       "      <th>mean</th>\n",
       "      <td>0.019006</td>\n",
       "      <td>-0.061987</td>\n",
       "      <td>2.072692</td>\n",
       "      <td>4869.149234</td>\n",
       "    </tr>\n",
       "    <tr>\n",
       "      <th>std</th>\n",
       "      <td>1.400558</td>\n",
       "      <td>0.256970</td>\n",
       "      <td>1.043121</td>\n",
       "      <td>1536.926148</td>\n",
       "    </tr>\n",
       "    <tr>\n",
       "      <th>min</th>\n",
       "      <td>-0.360000</td>\n",
       "      <td>-0.420000</td>\n",
       "      <td>0.460000</td>\n",
       "      <td>3321.140000</td>\n",
       "    </tr>\n",
       "    <tr>\n",
       "      <th>25%</th>\n",
       "      <td>-0.140000</td>\n",
       "      <td>-0.140000</td>\n",
       "      <td>1.417500</td>\n",
       "      <td>3819.872500</td>\n",
       "    </tr>\n",
       "    <tr>\n",
       "      <th>50%</th>\n",
       "      <td>-0.090000</td>\n",
       "      <td>-0.090000</td>\n",
       "      <td>1.830000</td>\n",
       "      <td>4495.965000</td>\n",
       "    </tr>\n",
       "    <tr>\n",
       "      <th>75%</th>\n",
       "      <td>-0.030000</td>\n",
       "      <td>-0.030000</td>\n",
       "      <td>2.400000</td>\n",
       "      <td>5256.262500</td>\n",
       "    </tr>\n",
       "    <tr>\n",
       "      <th>max</th>\n",
       "      <td>24.480000</td>\n",
       "      <td>3.740000</td>\n",
       "      <td>8.960000</td>\n",
       "      <td>11959.760000</td>\n",
       "    </tr>\n",
       "  </tbody>\n",
       "</table>\n",
       "</div>"
      ],
      "text/plain": [
       "       AAGR_birth  AAGR_married      영유아/정원          평균소득\n",
       "count  312.000000    312.000000  312.000000    312.000000\n",
       "mean     0.019006     -0.061987    2.072692   4869.149234\n",
       "std      1.400558      0.256970    1.043121   1536.926148\n",
       "min     -0.360000     -0.420000    0.460000   3321.140000\n",
       "25%     -0.140000     -0.140000    1.417500   3819.872500\n",
       "50%     -0.090000     -0.090000    1.830000   4495.965000\n",
       "75%     -0.030000     -0.030000    2.400000   5256.262500\n",
       "max     24.480000      3.740000    8.960000  11959.760000"
      ]
     },
     "execution_count": 50,
     "metadata": {},
     "output_type": "execute_result"
    }
   ],
   "source": [
    "combined_df.describe()"
   ]
  },
  {
   "cell_type": "code",
   "execution_count": 51,
   "metadata": {},
   "outputs": [
    {
     "data": {
      "text/plain": [
       "[<matplotlib.lines.Line2D at 0x7ffbcd74b250>]"
      ]
     },
     "execution_count": 51,
     "metadata": {},
     "output_type": "execute_result"
    },
    {
     "data": {
      "image/png": "[encoded data removed]",
      "text/plain": [
       "<Figure size 432x288 with 1 Axes>"
      ]
     },
     "metadata": {
      "needs_background": "light"
     },
     "output_type": "display_data"
    }
   ],
   "source": [
    "import numpy as np\n",
    "#create basic scatterplot\n",
    "plt.plot(combined_df['AAGR_birth'], combined_df['AAGR_married'], 'o')\n",
    "\n",
    "#obtain m (slope) and b(intercept) of linear regression line\n",
    "m, b = np.polyfit(combined_df['AAGR_birth'], combined_df['AAGR_married'], 1)\n",
    "\n",
    "#add linear regression line to scatterplot \n",
    "plt.plot(combined_df['AAGR_birth'], m*combined_df['AAGR_birth']+b)"
   ]
  },
  {
   "cell_type": "markdown",
   "metadata": {},
   "source": [
    "> 다른 행정동 값의 비해 너무 값이 크고 동떨어진 행정동 3개로 인해 군집화가 제대로 이루어지지 않아 제거"
   ]
  },
  {
   "cell_type": "code",
   "execution_count": 52,
   "metadata": {},
   "outputs": [
    {
     "data": {
      "text/html": [
       "<div>\n",
       "<style scoped>\n",
       "    .dataframe tbody tr th:only-of-type {\n",
       "        vertical-align: middle;\n",
       "    }\n",
       "\n",
       "    .dataframe tbody tr th {\n",
       "        vertical-align: top;\n",
       "    }\n",
       "\n",
       "    .dataframe thead th {\n",
       "        text-align: right;\n",
       "    }\n",
       "</style>\n",
       "<table border=\"1\" class=\"dataframe\">\n",
       "  <thead>\n",
       "    <tr style=\"text-align: right;\">\n",
       "      <th></th>\n",
       "      <th>지역</th>\n",
       "      <th>AAGR_birth</th>\n",
       "      <th>AAGR_married</th>\n",
       "      <th>영유아/정원</th>\n",
       "      <th>평균소득</th>\n",
       "    </tr>\n",
       "  </thead>\n",
       "  <tbody>\n",
       "    <tr>\n",
       "      <th>211</th>\n",
       "      <td>송파구_가락1동</td>\n",
       "      <td>24.48</td>\n",
       "      <td>3.74</td>\n",
       "      <td>2.83</td>\n",
       "      <td>7281.91</td>\n",
       "    </tr>\n",
       "  </tbody>\n",
       "</table>\n",
       "</div>"
      ],
      "text/plain": [
       "           지역  AAGR_birth  AAGR_married  영유아/정원     평균소득\n",
       "211  송파구_가락1동       24.48          3.74    2.83  7281.91"
      ]
     },
     "execution_count": 52,
     "metadata": {},
     "output_type": "execute_result"
    }
   ],
   "source": [
    "combined_df[combined_df['지역']=='송파구_가락1동']"
   ]
  },
  {
   "cell_type": "code",
   "execution_count": 53,
   "metadata": {},
   "outputs": [],
   "source": [
    "combined_df = combined_df[combined_df.지역 != '송파구_가락1동'] \n",
    "#combined_df = combined_df[combined_df.지역 != '양천구_신월6동'] \n",
    "#combined_df = combined_df[combined_df.지역 != '강동구_고덕2동'] "
   ]
  },
  {
   "cell_type": "code",
   "execution_count": 54,
   "metadata": {},
   "outputs": [
    {
     "data": {
      "text/plain": [
       "[<matplotlib.lines.Line2D at 0x7ffbcd874750>]"
      ]
     },
     "execution_count": 54,
     "metadata": {},
     "output_type": "execute_result"
    },
    {
     "data": {
      "image/png": "[encoded data removed]",
      "text/plain": [
       "<Figure size 432x288 with 1 Axes>"
      ]
     },
     "metadata": {
      "needs_background": "light"
     },
     "output_type": "display_data"
    }
   ],
   "source": [
    "import numpy as np\n",
    "#create basic scatterplot\n",
    "plt.plot(combined_df['AAGR_birth'], combined_df['AAGR_married'], 'o')\n",
    "\n",
    "#obtain m (slope) and b(intercept) of linear regression line\n",
    "m, b = np.polyfit(combined_df['AAGR_birth'], combined_df['AAGR_married'], 1)\n",
    "\n",
    "#add linear regression line to scatterplot \n",
    "plt.plot(combined_df['AAGR_birth'], m*combined_df['AAGR_birth']+b)"
   ]
  },
  {
   "cell_type": "code",
   "execution_count": 55,
   "metadata": {},
   "outputs": [
    {
     "data": {
      "text/plain": [
       "[<matplotlib.lines.Line2D at 0x7ffbcdb18210>]"
      ]
     },
     "execution_count": 55,
     "metadata": {},
     "output_type": "execute_result"
    },
    {
     "data": {
      "image/png": "[encoded data removed]",
      "text/plain": [
       "<Figure size 432x288 with 1 Axes>"
      ]
     },
     "metadata": {
      "needs_background": "light"
     },
     "output_type": "display_data"
    }
   ],
   "source": [
    "import numpy as np\n",
    "#create basic scatterplot\n",
    "plt.plot(combined_df['AAGR_married'], combined_df['영유아/정원'], 'o')\n",
    "\n",
    "#obtain m (slope) and b(intercept) of linear regression line\n",
    "m, b = np.polyfit(combined_df['AAGR_married'], combined_df['영유아/정원'], 1)\n",
    "\n",
    "#add linear regression line to scatterplot \n",
    "plt.plot(combined_df['AAGR_married'], m*combined_df['AAGR_married']+b)"
   ]
  },
  {
   "cell_type": "code",
   "execution_count": 56,
   "metadata": {},
   "outputs": [
    {
     "data": {
      "text/plain": [
       "(array([  5.,  35., 193.,  56.,  19.,   1.,   0.,   0.,   1.,   0.,   0.,\n",
       "          0.,   0.,   0.,   1.]),\n",
       " array([-0.42      , -0.29133333, -0.16266667, -0.034     ,  0.09466667,\n",
       "         0.22333333,  0.352     ,  0.48066667,  0.60933333,  0.738     ,\n",
       "         0.86666667,  0.99533333,  1.124     ,  1.25266667,  1.38133333,\n",
       "         1.51      ]),\n",
       " <BarContainer object of 15 artists>)"
      ]
     },
     "execution_count": 56,
     "metadata": {},
     "output_type": "execute_result"
    },
    {
     "data": {
      "image/png": "[encoded data removed]",
      "text/plain": [
       "<Figure size 432x288 with 1 Axes>"
      ]
     },
     "metadata": {
      "needs_background": "light"
     },
     "output_type": "display_data"
    }
   ],
   "source": [
    "plt.hist(combined_df['AAGR_married'],bins=15, color='lightgrey')"
   ]
  },
  {
   "cell_type": "code",
   "execution_count": 57,
   "metadata": {},
   "outputs": [
    {
     "data": {
      "text/plain": [
       "(array([27., 84., 94., 55., 19., 12.,  8.,  8.,  1.,  0.,  1.,  1.,  0.,\n",
       "         0.,  1.]),\n",
       " array([0.46      , 1.02666667, 1.59333333, 2.16      , 2.72666667,\n",
       "        3.29333333, 3.86      , 4.42666667, 4.99333333, 5.56      ,\n",
       "        6.12666667, 6.69333333, 7.26      , 7.82666667, 8.39333333,\n",
       "        8.96      ]),\n",
       " <BarContainer object of 15 artists>)"
      ]
     },
     "execution_count": 57,
     "metadata": {},
     "output_type": "execute_result"
    },
    {
     "data": {
      "image/png": "[encoded data removed]",
      "text/plain": [
       "<Figure size 432x288 with 1 Axes>"
      ]
     },
     "metadata": {
      "needs_background": "light"
     },
     "output_type": "display_data"
    }
   ],
   "source": [
    "plt.hist(combined_df['영유아/정원'],bins=15,color='lightgrey')"
   ]
  },
  {
   "cell_type": "code",
   "execution_count": 58,
   "metadata": {},
   "outputs": [
    {
     "data": {
      "text/plain": [
       "(array([  5., 112., 156.,  22.,   4.,   5.,   1.,   1.,   2.,   0.,   0.,\n",
       "          1.,   0.,   1.,   1.]),\n",
       " array([-0.36      , -0.23666667, -0.11333333,  0.01      ,  0.13333333,\n",
       "         0.25666667,  0.38      ,  0.50333333,  0.62666667,  0.75      ,\n",
       "         0.87333333,  0.99666667,  1.12      ,  1.24333333,  1.36666667,\n",
       "         1.49      ]),\n",
       " <BarContainer object of 15 artists>)"
      ]
     },
     "execution_count": 58,
     "metadata": {},
     "output_type": "execute_result"
    },
    {
     "data": {
      "image/png": "[encoded data removed]",
      "text/plain": [
       "<Figure size 432x288 with 1 Axes>"
      ]
     },
     "metadata": {
      "needs_background": "light"
     },
     "output_type": "display_data"
    }
   ],
   "source": [
    "plt.hist(combined_df['AAGR_birth'],bins=15,color='lightgrey')"
   ]
  },
  {
   "cell_type": "code",
   "execution_count": 59,
   "metadata": {},
   "outputs": [
    {
     "data": {
      "text/plain": [
       "(array([136.,  80.,  52.,  14.,  12.,   3.,   2.,   3.,   7.,   2.]),\n",
       " array([ 3321.14 ,  4185.002,  5048.864,  5912.726,  6776.588,  7640.45 ,\n",
       "         8504.312,  9368.174, 10232.036, 11095.898, 11959.76 ]),\n",
       " <BarContainer object of 10 artists>)"
      ]
     },
     "execution_count": 59,
     "metadata": {},
     "output_type": "execute_result"
    },
    {
     "data": {
      "image/png": "[encoded data removed]",
      "text/plain": [
       "<Figure size 432x288 with 1 Axes>"
      ]
     },
     "metadata": {
      "needs_background": "light"
     },
     "output_type": "display_data"
    }
   ],
   "source": [
    "plt.hist(combined_df['평균소득'],bins=10, color='lightgrey')"
   ]
  },
  {
   "cell_type": "markdown",
   "metadata": {},
   "source": [
    "# 5. 데이터 표준화\n",
    "> 위에 보이는 시각화에서 보여주듯 편차가 상대적으로 큰 행정동들이 있기 때문에 RobustScaler를 사용하여 이상값의 영향을 최소화한 후 군집화 진행 "
   ]
  },
  {
   "cell_type": "code",
   "execution_count": 60,
   "metadata": {},
   "outputs": [],
   "source": [
    " combined_df = combined_df.reset_index(drop=True)"
   ]
  },
  {
   "cell_type": "code",
   "execution_count": 61,
   "metadata": {},
   "outputs": [],
   "source": [
    "combined_df = combined_df.set_index('지역')"
   ]
  },
  {
   "cell_type": "code",
   "execution_count": 62,
   "metadata": {},
   "outputs": [
    {
     "data": {
      "text/html": [
       "<div>\n",
       "<style scoped>\n",
       "    .dataframe tbody tr th:only-of-type {\n",
       "        vertical-align: middle;\n",
       "    }\n",
       "\n",
       "    .dataframe tbody tr th {\n",
       "        vertical-align: top;\n",
       "    }\n",
       "\n",
       "    .dataframe thead th {\n",
       "        text-align: right;\n",
       "    }\n",
       "</style>\n",
       "<table border=\"1\" class=\"dataframe\">\n",
       "  <thead>\n",
       "    <tr style=\"text-align: right;\">\n",
       "      <th></th>\n",
       "      <th>AAGR_birth</th>\n",
       "      <th>AAGR_married</th>\n",
       "      <th>영유아/정원</th>\n",
       "      <th>평균소득</th>\n",
       "    </tr>\n",
       "  </thead>\n",
       "  <tbody>\n",
       "    <tr>\n",
       "      <th>count</th>\n",
       "      <td>311.000000</td>\n",
       "      <td>311.000000</td>\n",
       "      <td>311.000000</td>\n",
       "      <td>311.000000</td>\n",
       "    </tr>\n",
       "    <tr>\n",
       "      <th>mean</th>\n",
       "      <td>0.162353</td>\n",
       "      <td>0.179165</td>\n",
       "      <td>0.189442</td>\n",
       "      <td>0.178298</td>\n",
       "    </tr>\n",
       "    <tr>\n",
       "      <th>std</th>\n",
       "      <td>0.096020</td>\n",
       "      <td>0.072292</td>\n",
       "      <td>0.122813</td>\n",
       "      <td>0.177490</td>\n",
       "    </tr>\n",
       "    <tr>\n",
       "      <th>min</th>\n",
       "      <td>0.000000</td>\n",
       "      <td>0.000000</td>\n",
       "      <td>0.000000</td>\n",
       "      <td>0.000000</td>\n",
       "    </tr>\n",
       "    <tr>\n",
       "      <th>25%</th>\n",
       "      <td>0.118919</td>\n",
       "      <td>0.145078</td>\n",
       "      <td>0.112353</td>\n",
       "      <td>0.057154</td>\n",
       "    </tr>\n",
       "    <tr>\n",
       "      <th>50%</th>\n",
       "      <td>0.145946</td>\n",
       "      <td>0.170984</td>\n",
       "      <td>0.161176</td>\n",
       "      <td>0.133316</td>\n",
       "    </tr>\n",
       "    <tr>\n",
       "      <th>75%</th>\n",
       "      <td>0.178378</td>\n",
       "      <td>0.199482</td>\n",
       "      <td>0.227647</td>\n",
       "      <td>0.223474</td>\n",
       "    </tr>\n",
       "    <tr>\n",
       "      <th>max</th>\n",
       "      <td>1.000000</td>\n",
       "      <td>1.000000</td>\n",
       "      <td>1.000000</td>\n",
       "      <td>1.000000</td>\n",
       "    </tr>\n",
       "  </tbody>\n",
       "</table>\n",
       "</div>"
      ],
      "text/plain": [
       "       AAGR_birth  AAGR_married      영유아/정원        평균소득\n",
       "count  311.000000    311.000000  311.000000  311.000000\n",
       "mean     0.162353      0.179165    0.189442    0.178298\n",
       "std      0.096020      0.072292    0.122813    0.177490\n",
       "min      0.000000      0.000000    0.000000    0.000000\n",
       "25%      0.118919      0.145078    0.112353    0.057154\n",
       "50%      0.145946      0.170984    0.161176    0.133316\n",
       "75%      0.178378      0.199482    0.227647    0.223474\n",
       "max      1.000000      1.000000    1.000000    1.000000"
      ]
     },
     "execution_count": 62,
     "metadata": {},
     "output_type": "execute_result"
    }
   ],
   "source": [
    "from sklearn.preprocessing import StandardScaler\n",
    "from sklearn.preprocessing import MinMaxScaler\n",
    "\n",
    "sc = MinMaxScaler()\n",
    "scaled = sc.fit_transform(combined_df)\n",
    "pd.DataFrame(scaled,columns=combined_df.columns).describe() "
   ]
  },
  {
   "cell_type": "code",
   "execution_count": 63,
   "metadata": {},
   "outputs": [],
   "source": [
    "check_df = pd.DataFrame(scaled,columns=combined_df.columns)"
   ]
  },
  {
   "cell_type": "markdown",
   "metadata": {},
   "source": [
    "----"
   ]
  },
  {
   "cell_type": "markdown",
   "metadata": {},
   "source": [
    "# 6. 변수간 상관관계 확인"
   ]
  },
  {
   "cell_type": "code",
   "execution_count": 64,
   "metadata": {},
   "outputs": [
    {
     "name": "stderr",
     "output_type": "stream",
     "text": [
      "/Users/jincheong-a/anaconda3/envs/cadk7/lib/python3.7/site-packages/seaborn/utils.py:95: UserWarning: Glyph 50689 (\\N{HANGUL SYLLABLE YEONG}) missing from current font.\n",
      "  fig.canvas.draw()\n",
      "/Users/jincheong-a/anaconda3/envs/cadk7/lib/python3.7/site-packages/seaborn/utils.py:95: UserWarning: Glyph 50976 (\\N{HANGUL SYLLABLE YU}) missing from current font.\n",
      "  fig.canvas.draw()\n",
      "/Users/jincheong-a/anaconda3/envs/cadk7/lib/python3.7/site-packages/seaborn/utils.py:95: UserWarning: Glyph 50500 (\\N{HANGUL SYLLABLE A}) missing from current font.\n",
      "  fig.canvas.draw()\n",
      "/Users/jincheong-a/anaconda3/envs/cadk7/lib/python3.7/site-packages/seaborn/utils.py:95: UserWarning: Glyph 51221 (\\N{HANGUL SYLLABLE JEONG}) missing from current font.\n",
      "  fig.canvas.draw()\n",
      "/Users/jincheong-a/anaconda3/envs/cadk7/lib/python3.7/site-packages/seaborn/utils.py:95: UserWarning: Glyph 50896 (\\N{HANGUL SYLLABLE WEON}) missing from current font.\n",
      "  fig.canvas.draw()\n",
      "/Users/jincheong-a/anaconda3/envs/cadk7/lib/python3.7/site-packages/seaborn/utils.py:95: UserWarning: Glyph 54217 (\\N{HANGUL SYLLABLE PYEONG}) missing from current font.\n",
      "  fig.canvas.draw()\n",
      "/Users/jincheong-a/anaconda3/envs/cadk7/lib/python3.7/site-packages/seaborn/utils.py:95: UserWarning: Glyph 44512 (\\N{HANGUL SYLLABLE GYUN}) missing from current font.\n",
      "  fig.canvas.draw()\n",
      "/Users/jincheong-a/anaconda3/envs/cadk7/lib/python3.7/site-packages/seaborn/utils.py:95: UserWarning: Glyph 49548 (\\N{HANGUL SYLLABLE SO}) missing from current font.\n",
      "  fig.canvas.draw()\n",
      "/Users/jincheong-a/anaconda3/envs/cadk7/lib/python3.7/site-packages/seaborn/utils.py:95: UserWarning: Glyph 46301 (\\N{HANGUL SYLLABLE DEUG}) missing from current font.\n",
      "  fig.canvas.draw()\n"
     ]
    },
    {
     "data": {
      "text/plain": [
       "<AxesSubplot:>"
      ]
     },
     "execution_count": 64,
     "metadata": {},
     "output_type": "execute_result"
    },
    {
     "name": "stderr",
     "output_type": "stream",
     "text": [
      "/Users/jincheong-a/anaconda3/envs/cadk7/lib/python3.7/site-packages/IPython/core/pylabtools.py:151: UserWarning: Glyph 50689 (\\N{HANGUL SYLLABLE YEONG}) missing from current font.\n",
      "  fig.canvas.print_figure(bytes_io, **kw)\n",
      "/Users/jincheong-a/anaconda3/envs/cadk7/lib/python3.7/site-packages/IPython/core/pylabtools.py:151: UserWarning: Glyph 50976 (\\N{HANGUL SYLLABLE YU}) missing from current font.\n",
      "  fig.canvas.print_figure(bytes_io, **kw)\n",
      "/Users/jincheong-a/anaconda3/envs/cadk7/lib/python3.7/site-packages/IPython/core/pylabtools.py:151: UserWarning: Glyph 50500 (\\N{HANGUL SYLLABLE A}) missing from current font.\n",
      "  fig.canvas.print_figure(bytes_io, **kw)\n",
      "/Users/jincheong-a/anaconda3/envs/cadk7/lib/python3.7/site-packages/IPython/core/pylabtools.py:151: UserWarning: Glyph 51221 (\\N{HANGUL SYLLABLE JEONG}) missing from current font.\n",
      "  fig.canvas.print_figure(bytes_io, **kw)\n",
      "/Users/jincheong-a/anaconda3/envs/cadk7/lib/python3.7/site-packages/IPython/core/pylabtools.py:151: UserWarning: Glyph 50896 (\\N{HANGUL SYLLABLE WEON}) missing from current font.\n",
      "  fig.canvas.print_figure(bytes_io, **kw)\n",
      "/Users/jincheong-a/anaconda3/envs/cadk7/lib/python3.7/site-packages/IPython/core/pylabtools.py:151: UserWarning: Glyph 54217 (\\N{HANGUL SYLLABLE PYEONG}) missing from current font.\n",
      "  fig.canvas.print_figure(bytes_io, **kw)\n",
      "/Users/jincheong-a/anaconda3/envs/cadk7/lib/python3.7/site-packages/IPython/core/pylabtools.py:151: UserWarning: Glyph 44512 (\\N{HANGUL SYLLABLE GYUN}) missing from current font.\n",
      "  fig.canvas.print_figure(bytes_io, **kw)\n",
      "/Users/jincheong-a/anaconda3/envs/cadk7/lib/python3.7/site-packages/IPython/core/pylabtools.py:151: UserWarning: Glyph 49548 (\\N{HANGUL SYLLABLE SO}) missing from current font.\n",
      "  fig.canvas.print_figure(bytes_io, **kw)\n",
      "/Users/jincheong-a/anaconda3/envs/cadk7/lib/python3.7/site-packages/IPython/core/pylabtools.py:151: UserWarning: Glyph 46301 (\\N{HANGUL SYLLABLE DEUG}) missing from current font.\n",
      "  fig.canvas.print_figure(bytes_io, **kw)\n"
     ]
    },
    {
     "data": {
      "image/png": "[encoded data removed]",
      "text/plain": [
       "<Figure size 432x288 with 2 Axes>"
      ]
     },
     "metadata": {
      "needs_background": "light"
     },
     "output_type": "display_data"
    }
   ],
   "source": [
    "import seaborn as sns\n",
    "sns.heatmap(pd.DataFrame(scaled,columns=combined_df.columns).corr(),annot=True,cmap='YlGnBu')"
   ]
  },
  {
   "cell_type": "markdown",
   "metadata": {},
   "source": [
    "----"
   ]
  },
  {
   "cell_type": "markdown",
   "metadata": {},
   "source": [
    "## 7. PCA 차원 축소"
   ]
  },
  {
   "cell_type": "code",
   "execution_count": 65,
   "metadata": {},
   "outputs": [
    {
     "name": "stdout",
     "output_type": "stream",
     "text": [
      "(311, 2)\n"
     ]
    }
   ],
   "source": [
    "from sklearn.decomposition import PCA\n",
    "\n",
    "pca=PCA(n_components=2)\n",
    "\n",
    "pca.fit(scaled)\n",
    "result_pca = pca.transform(scaled)\n",
    "print(result_pca.shape)"
   ]
  },
  {
   "cell_type": "code",
   "execution_count": 66,
   "metadata": {},
   "outputs": [
    {
     "data": {
      "text/html": [
       "<div>\n",
       "<style scoped>\n",
       "    .dataframe tbody tr th:only-of-type {\n",
       "        vertical-align: middle;\n",
       "    }\n",
       "\n",
       "    .dataframe tbody tr th {\n",
       "        vertical-align: top;\n",
       "    }\n",
       "\n",
       "    .dataframe thead th {\n",
       "        text-align: right;\n",
       "    }\n",
       "</style>\n",
       "<table border=\"1\" class=\"dataframe\">\n",
       "  <thead>\n",
       "    <tr style=\"text-align: right;\">\n",
       "      <th></th>\n",
       "      <th>pca_component1</th>\n",
       "      <th>pca_component2</th>\n",
       "    </tr>\n",
       "  </thead>\n",
       "  <tbody>\n",
       "    <tr>\n",
       "      <th>0</th>\n",
       "      <td>0.532199</td>\n",
       "      <td>0.258853</td>\n",
       "    </tr>\n",
       "    <tr>\n",
       "      <th>1</th>\n",
       "      <td>0.629202</td>\n",
       "      <td>0.301755</td>\n",
       "    </tr>\n",
       "    <tr>\n",
       "      <th>2</th>\n",
       "      <td>0.398474</td>\n",
       "      <td>-0.106877</td>\n",
       "    </tr>\n",
       "    <tr>\n",
       "      <th>3</th>\n",
       "      <td>0.672904</td>\n",
       "      <td>-0.206758</td>\n",
       "    </tr>\n",
       "    <tr>\n",
       "      <th>4</th>\n",
       "      <td>0.755986</td>\n",
       "      <td>-0.325806</td>\n",
       "    </tr>\n",
       "  </tbody>\n",
       "</table>\n",
       "</div>"
      ],
      "text/plain": [
       "   pca_component1  pca_component2\n",
       "0        0.532199        0.258853\n",
       "1        0.629202        0.301755\n",
       "2        0.398474       -0.106877\n",
       "3        0.672904       -0.206758\n",
       "4        0.755986       -0.325806"
      ]
     },
     "execution_count": 66,
     "metadata": {},
     "output_type": "execute_result"
    }
   ],
   "source": [
    "pca_columns = ['pca_component1','pca_component2']\n",
    "df_pca = pd.DataFrame(result_pca,columns=pca_columns)\n",
    "df_pca.head()"
   ]
  },
  {
   "cell_type": "code",
   "execution_count": 67,
   "metadata": {},
   "outputs": [
    {
     "data": {
      "text/plain": [
       "(array([96., 94., 71., 18., 11.,  3.,  4.,  5.,  6.,  3.]),\n",
       " array([-0.20351274, -0.10385041, -0.00418808,  0.09547425,  0.19513658,\n",
       "         0.29479891,  0.39446124,  0.49412358,  0.59378591,  0.69344824,\n",
       "         0.79311057]),\n",
       " <BarContainer object of 10 artists>)"
      ]
     },
     "execution_count": 67,
     "metadata": {},
     "output_type": "execute_result"
    },
    {
     "data": {
      "image/png": "[encoded data removed]",
      "text/plain": [
       "<Figure size 432x288 with 1 Axes>"
      ]
     },
     "metadata": {
      "needs_background": "light"
     },
     "output_type": "display_data"
    }
   ],
   "source": [
    "plt.hist(df_pca['pca_component1'])"
   ]
  },
  {
   "cell_type": "code",
   "execution_count": 68,
   "metadata": {},
   "outputs": [
    {
     "data": {
      "text/plain": [
       "(array([  3.,  17., 120., 108.,  40.,  11.,   6.,   4.,   1.,   1.]),\n",
       " array([-0.32580601, -0.22721498, -0.12862396, -0.03003294,  0.06855809,\n",
       "         0.16714911,  0.26574013,  0.36433116,  0.46292218,  0.5615132 ,\n",
       "         0.66010423]),\n",
       " <BarContainer object of 10 artists>)"
      ]
     },
     "execution_count": 68,
     "metadata": {},
     "output_type": "execute_result"
    },
    {
     "data": {
      "image/png": "[encoded data removed]",
      "text/plain": [
       "<Figure size 432x288 with 1 Axes>"
      ]
     },
     "metadata": {
      "needs_background": "light"
     },
     "output_type": "display_data"
    }
   ],
   "source": [
    "plt.hist(df_pca['pca_component2'])"
   ]
  },
  {
   "cell_type": "code",
   "execution_count": 69,
   "metadata": {},
   "outputs": [
    {
     "data": {
      "text/plain": [
       "array([0.5373011 , 0.24703885])"
      ]
     },
     "execution_count": 69,
     "metadata": {},
     "output_type": "execute_result"
    }
   ],
   "source": [
    "pca.explained_variance_ratio_"
   ]
  },
  {
   "cell_type": "code",
   "execution_count": 70,
   "metadata": {},
   "outputs": [
    {
     "data": {
      "text/plain": [
       "0.7843399503929698"
      ]
     },
     "execution_count": 70,
     "metadata": {},
     "output_type": "execute_result"
    }
   ],
   "source": [
    "sum(pca.explained_variance_ratio_)"
   ]
  },
  {
   "cell_type": "markdown",
   "metadata": {},
   "source": [
    "-----"
   ]
  },
  {
   "cell_type": "code",
   "execution_count": 71,
   "metadata": {
    "scrolled": true
   },
   "outputs": [],
   "source": [
    "import os\n",
    "os.environ['OMP_NUM_THREADS'] = '1'\n",
    "\n",
    "import pandas as pd\n",
    "import numpy as np\n",
    "import matplotlib.pyplot as plt\n",
    "import seaborn as sns\n",
    "\n",
    "from sklearn import cluster\n",
    "from sklearn import mixture\n",
    "from sklearn import datasets\n",
    "from sklearn.cluster import KMeans\n",
    "from sklearn.preprocessing import LabelEncoder\n",
    "from sklearn.preprocessing import StandardScaler\n",
    "from sklearn.preprocessing import MinMaxScaler\n",
    "from sklearn.metrics import silhouette_samples, silhouette_score\n",
    "from sklearn.decomposition import PCA\n",
    "from sklearn.model_selection import train_test_split\n",
    "import warnings\n",
    "warnings.filterwarnings(\"ignore\")\n",
    "\n",
    "plt.rc('font', family='Malgun Gothic')\n",
    "plt.rcParams['axes.unicode_minus']=False\n",
    "\n",
    "#from yellowbrick.cluster import SilhouetteVisualizer"
   ]
  },
  {
   "cell_type": "markdown",
   "metadata": {},
   "source": [
    "# 8. Elbow method 활용하여 최적 군집 개수 확인"
   ]
  },
  {
   "cell_type": "code",
   "execution_count": 72,
   "metadata": {},
   "outputs": [
    {
     "name": "stderr",
     "output_type": "stream",
     "text": [
      "findfont: Font family ['Malgun Gothic'] not found. Falling back to DejaVu Sans.\n",
      "findfont: Font family ['Malgun Gothic'] not found. Falling back to DejaVu Sans.\n"
     ]
    },
    {
     "data": {
      "image/png": "[encoded data removed]",
      "text/plain": [
       "<Figure size 432x288 with 1 Axes>"
      ]
     },
     "metadata": {
      "needs_background": "light"
     },
     "output_type": "display_data"
    }
   ],
   "source": [
    "inertia_list = []\n",
    "for i in range(1, 11):\n",
    "    kmeans = KMeans(n_clusters=i, init='k-means++', random_state=0)\n",
    "    kmeans.fit(df_pca)\n",
    "    inertia_list.append(kmeans.inertia_)\n",
    "    \n",
    "plt.plot(range(1, 11), inertia_list)\n",
    "plt.title('Elbow Method')\n",
    "plt.xlabel('n_clusters')\n",
    "plt.ylabel('inertia')\n",
    "plt.show()"
   ]
  },
  {
   "cell_type": "markdown",
   "metadata": {},
   "source": [
    "# 9. 군집별 실루엣 계수 확인"
   ]
  },
  {
   "cell_type": "code",
   "execution_count": 73,
   "metadata": {},
   "outputs": [],
   "source": [
    "### 여러개의 클러스터링 갯수를 List로 입력 받아 각각의 실루엣 계수를 면적으로 시각화한 함수 작성\n",
    "def visualize_silhouette(cluster_lists, X_features): \n",
    "\n",
    "    from sklearn.datasets import make_blobs\n",
    "    from sklearn.cluster import KMeans\n",
    "    from sklearn.metrics import silhouette_samples, silhouette_score\n",
    "\n",
    "    import matplotlib.pyplot as plt\n",
    "    import matplotlib.cm as cm\n",
    "    import math\n",
    "\n",
    "    # 입력값으로 클러스터링 갯수들을 리스트로 받아서, 각 갯수별로 클러스터링을 적용하고 실루엣 개수를 구함\n",
    "    n_cols = len(cluster_lists)\n",
    "\n",
    "    # plt.subplots()으로 리스트에 기재된 클러스터링 수만큼의 sub figures를 가지는 axs 생성 \n",
    "    fig, axs = plt.subplots(figsize=(4*n_cols, 4), nrows=1, ncols=n_cols)\n",
    "\n",
    "    # 리스트에 기재된 클러스터링 갯수들을 차례로 iteration 수행하면서 실루엣 개수 시각화\n",
    "    for ind, n_cluster in enumerate(cluster_lists):\n",
    "\n",
    "        # KMeans 클러스터링 수행하고, 실루엣 스코어와 개별 데이터의 실루엣 값 계산. \n",
    "        clusterer = KMeans(n_clusters = n_cluster, max_iter=500, random_state=0)\n",
    "        cluster_labels = clusterer.fit_predict(X_features)\n",
    "\n",
    "        sil_avg = silhouette_score(X_features, cluster_labels)\n",
    "        sil_values = silhouette_samples(X_features, cluster_labels)\n",
    "\n",
    "        y_lower = 10\n",
    "        axs[ind].set_title('Number of Cluster : '+ str(n_cluster)+'\\n' \\\n",
    "                          'Silhouette Score :' + str(round(sil_avg,3)) )\n",
    "        axs[ind].set_xlabel(\"The silhouette coefficient values\")\n",
    "        axs[ind].set_ylabel(\"Cluster label\")\n",
    "        axs[ind].set_xlim([-0.1, 1])\n",
    "        axs[ind].set_ylim([0, len(X_features) + (n_cluster + 1) * 10])\n",
    "        axs[ind].set_yticks([])  # Clear the yaxis labels / ticks\n",
    "        axs[ind].set_xticks([0, 0.2, 0.4, 0.6, 0.8, 1])\n",
    "\n",
    "        # 클러스터링 갯수별로 fill_betweenx( )형태의 막대 그래프 표현. \n",
    "        for i in range(n_cluster):\n",
    "            ith_cluster_sil_values = sil_values[cluster_labels==i]\n",
    "            ith_cluster_sil_values.sort()\n",
    "\n",
    "            size_cluster_i = ith_cluster_sil_values.shape[0]\n",
    "            y_upper = y_lower + size_cluster_i\n",
    "\n",
    "            color = cm.nipy_spectral(float(i) / n_cluster)\n",
    "            axs[ind].fill_betweenx(np.arange(y_lower, y_upper), 0, ith_cluster_sil_values, \\\n",
    "                                facecolor=color, edgecolor=color, alpha=0.7)\n",
    "            axs[ind].text(-0.05, y_lower + 0.5 * size_cluster_i, str(i))\n",
    "            y_lower = y_upper + 10\n",
    "\n",
    "        axs[ind].axvline(x=sil_avg, color=\"red\", linestyle=\"--\")"
   ]
  },
  {
   "cell_type": "code",
   "execution_count": 74,
   "metadata": {},
   "outputs": [
    {
     "data": {
      "image/png": "[encoded data removed]",
      "text/plain": [
       "<Figure size 1728x288 with 6 Axes>"
      ]
     },
     "metadata": {
      "needs_background": "light"
     },
     "output_type": "display_data"
    }
   ],
   "source": [
    "import numpy as np\n",
    "\n",
    "\n",
    "visualize_silhouette([ 2, 3, 4, 5,6,7], df_pca)"
   ]
  },
  {
   "cell_type": "markdown",
   "metadata": {},
   "source": [
    "# 10. 군집 개수 결정, K-Means 모델 생성 및 군집화 + 행정동별 군집 라벨 매칭 "
   ]
  },
  {
   "cell_type": "code",
   "execution_count": 75,
   "metadata": {},
   "outputs": [
    {
     "name": "stdout",
     "output_type": "stream",
     "text": [
      "[0 0 3 3 3 3 3 2 2 0 2 2 0 2 0 2 2 2 2 2 2 2 2 4 4 4 4 4 4 4 4 4 4 4 4 1 2\n",
      " 2 2 2 2 2 4 2 2 4 4 4 4 4 4 4 4 2 2 2 2 4 2 2 4 2 2 2 2 2 2 2 2 2 2 2 2 2\n",
      " 2 2 2 2 2 2 2 4 2 2 4 4 4 4 4 4 4 4 4 1 4 4 4 4 4 4 4 4 4 4 4 4 2 1 4 4 4\n",
      " 1 1 4 4 4 4 4 1 1 4 1 4 4 4 4 4 4 4 1 4 4 4 4 4 1 4 4 4 4 1 4 4 4 1 4 2 0\n",
      " 2 2 2 2 2 1 2 1 2 2 2 2 2 2 2 2 2 2 1 4 1 0 1 2 4 1 1 4 4 4 3 3 3 4 4 4 4\n",
      " 4 2 1 4 4 1 2 2 1 1 4 1 4 4 4 1 2 4 4 1 4 1 4 4 4 4 2 2 2 2 4 3 3 3 0 2 2\n",
      " 3 2 3 2 2 2 2 2 2 4 4 4 4 4 1 4 2 2 1 4 1 2 2 4 4 4 4 1 1 1 4 1 4 2 4 4 1\n",
      " 1 0 2 0 4 2 2 4 4 4 4 4 4 4 1 4 4 4 4 1 4 4 4 2 1 2 4 4 4 4 0 4 4 4 4 4 1\n",
      " 4 4 4 4 4 1 4 4 4 1 4 4 4 4 4]\n"
     ]
    }
   ],
   "source": [
    "#케이민즈\n",
    "kmeans = KMeans(n_clusters =5, init='k-means++', max_iter=400, random_state=0).fit(df_pca)\n",
    "combined_df['cluster'] = kmeans.labels_\n",
    "print(kmeans.labels_)\n"
   ]
  },
  {
   "cell_type": "markdown",
   "metadata": {},
   "source": [
    "# 11. 군집 시각화 및 평가 \n",
    ">  군집 시각화로 군집이 잘 이루워 졌는지 확인"
   ]
  },
  {
   "cell_type": "code",
   "execution_count": 76,
   "metadata": {},
   "outputs": [],
   "source": [
    "df_pca ['cluster'] = kmeans.labels_"
   ]
  },
  {
   "cell_type": "code",
   "execution_count": 77,
   "metadata": {},
   "outputs": [
    {
     "data": {
      "image/png": "[encoded data removed]",
      "text/plain": [
       "<Figure size 432x288 with 1 Axes>"
      ]
     },
     "metadata": {
      "needs_background": "light"
     },
     "output_type": "display_data"
    }
   ],
   "source": [
    "marker0_ind = df_pca[df_pca['cluster']==0].index\n",
    "marker1_ind = df_pca[df_pca['cluster']==1].index\n",
    "marker2_ind = df_pca[df_pca['cluster']==2].index\n",
    "marker3_ind = df_pca[df_pca['cluster']==3].index\n",
    "marker4_ind = df_pca[df_pca['cluster']==4].index\n",
    "\n",
    "plt.scatter(x=df_pca.loc[marker0_ind,'pca_component1'],y=df_pca.loc[marker0_ind,'pca_component2'],marker='o')\n",
    "plt.scatter(x=df_pca.loc[marker1_ind,'pca_component1'],y=df_pca.loc[marker1_ind,'pca_component2'],marker='o')\n",
    "plt.scatter(x=df_pca.loc[marker2_ind,'pca_component1'],y=df_pca.loc[marker2_ind,'pca_component2'],marker='o')\n",
    "plt.scatter(x=df_pca.loc[marker3_ind,'pca_component1'],y=df_pca.loc[marker3_ind,'pca_component2'],marker='o')\n",
    "plt.scatter(x=df_pca.loc[marker4_ind,'pca_component1'],y=df_pca.loc[marker4_ind,'pca_component2'],marker='o')\n",
    "\n",
    "plt.xlabel('PCA 1')\n",
    "plt.ylabel('PCA 2')\n",
    "plt.show()"
   ]
  },
  {
   "cell_type": "markdown",
   "metadata": {},
   "source": [
    "--------"
   ]
  },
  {
   "cell_type": "markdown",
   "metadata": {},
   "source": [
    "# 12. 군집별 비교, 분석 및 시각화 "
   ]
  },
  {
   "cell_type": "code",
   "execution_count": 91,
   "metadata": {},
   "outputs": [],
   "source": [
    "score_samples = silhouette_samples(combined_df.iloc[:,:-1],combined_df['cluster'])"
   ]
  },
  {
   "cell_type": "code",
   "execution_count": 93,
   "metadata": {},
   "outputs": [],
   "source": [
    "combined_df['sil_coeff'] = score_samples"
   ]
  },
  {
   "cell_type": "code",
   "execution_count": 94,
   "metadata": {},
   "outputs": [
    {
     "data": {
      "text/plain": [
       "cluster\n",
       "0   -0.097021\n",
       "1   -0.169909\n",
       "2    0.419545\n",
       "3    0.546097\n",
       "4    0.099608\n",
       "Name: sil_coeff, dtype: float64"
      ]
     },
     "execution_count": 94,
     "metadata": {},
     "output_type": "execute_result"
    }
   ],
   "source": [
    "combined_df.groupby('cluster').sil_coeff.mean()"
   ]
  },
  {
   "cell_type": "code",
   "execution_count": 78,
   "metadata": {},
   "outputs": [],
   "source": [
    "cluster0 = combined_df[combined_df['cluster']==0]\n",
    "cluster1 = combined_df[combined_df['cluster']==1]\n",
    "cluster2 = combined_df[combined_df['cluster']==2]\n",
    "cluster3 = combined_df[combined_df['cluster']==3]\n",
    "cluster4 = combined_df[combined_df['cluster']==4]"
   ]
  },
  {
   "cell_type": "code",
   "execution_count": 79,
   "metadata": {},
   "outputs": [
    {
     "data": {
      "text/html": [
       "<div>\n",
       "<style scoped>\n",
       "    .dataframe tbody tr th:only-of-type {\n",
       "        vertical-align: middle;\n",
       "    }\n",
       "\n",
       "    .dataframe tbody tr th {\n",
       "        vertical-align: top;\n",
       "    }\n",
       "\n",
       "    .dataframe thead th {\n",
       "        text-align: right;\n",
       "    }\n",
       "</style>\n",
       "<table border=\"1\" class=\"dataframe\">\n",
       "  <thead>\n",
       "    <tr style=\"text-align: right;\">\n",
       "      <th></th>\n",
       "      <th>AAGR_birth</th>\n",
       "      <th>AAGR_married</th>\n",
       "      <th>영유아/정원</th>\n",
       "      <th>평균소득</th>\n",
       "      <th>cluster</th>\n",
       "    </tr>\n",
       "  </thead>\n",
       "  <tbody>\n",
       "    <tr>\n",
       "      <th>count</th>\n",
       "      <td>11.000000</td>\n",
       "      <td>11.000000</td>\n",
       "      <td>11.000000</td>\n",
       "      <td>11.000000</td>\n",
       "      <td>11.0</td>\n",
       "    </tr>\n",
       "    <tr>\n",
       "      <th>mean</th>\n",
       "      <td>0.249091</td>\n",
       "      <td>-0.002727</td>\n",
       "      <td>5.079091</td>\n",
       "      <td>7302.105000</td>\n",
       "      <td>0.0</td>\n",
       "    </tr>\n",
       "    <tr>\n",
       "      <th>std</th>\n",
       "      <td>0.599774</td>\n",
       "      <td>0.241043</td>\n",
       "      <td>1.804220</td>\n",
       "      <td>1424.881988</td>\n",
       "      <td>0.0</td>\n",
       "    </tr>\n",
       "    <tr>\n",
       "      <th>min</th>\n",
       "      <td>-0.260000</td>\n",
       "      <td>-0.240000</td>\n",
       "      <td>2.780000</td>\n",
       "      <td>4564.930000</td>\n",
       "      <td>0.0</td>\n",
       "    </tr>\n",
       "    <tr>\n",
       "      <th>25%</th>\n",
       "      <td>-0.115000</td>\n",
       "      <td>-0.140000</td>\n",
       "      <td>4.055000</td>\n",
       "      <td>6425.245000</td>\n",
       "      <td>0.0</td>\n",
       "    </tr>\n",
       "    <tr>\n",
       "      <th>50%</th>\n",
       "      <td>-0.090000</td>\n",
       "      <td>-0.060000</td>\n",
       "      <td>4.830000</td>\n",
       "      <td>7281.590000</td>\n",
       "      <td>0.0</td>\n",
       "    </tr>\n",
       "    <tr>\n",
       "      <th>75%</th>\n",
       "      <td>0.420000</td>\n",
       "      <td>0.045000</td>\n",
       "      <td>5.685000</td>\n",
       "      <td>8405.765000</td>\n",
       "      <td>0.0</td>\n",
       "    </tr>\n",
       "    <tr>\n",
       "      <th>max</th>\n",
       "      <td>1.490000</td>\n",
       "      <td>0.620000</td>\n",
       "      <td>8.960000</td>\n",
       "      <td>9551.995000</td>\n",
       "      <td>0.0</td>\n",
       "    </tr>\n",
       "  </tbody>\n",
       "</table>\n",
       "</div>"
      ],
      "text/plain": [
       "       AAGR_birth  AAGR_married     영유아/정원         평균소득  cluster\n",
       "count   11.000000     11.000000  11.000000    11.000000     11.0\n",
       "mean     0.249091     -0.002727   5.079091  7302.105000      0.0\n",
       "std      0.599774      0.241043   1.804220  1424.881988      0.0\n",
       "min     -0.260000     -0.240000   2.780000  4564.930000      0.0\n",
       "25%     -0.115000     -0.140000   4.055000  6425.245000      0.0\n",
       "50%     -0.090000     -0.060000   4.830000  7281.590000      0.0\n",
       "75%      0.420000      0.045000   5.685000  8405.765000      0.0\n",
       "max      1.490000      0.620000   8.960000  9551.995000      0.0"
      ]
     },
     "execution_count": 79,
     "metadata": {},
     "output_type": "execute_result"
    }
   ],
   "source": [
    "cluster0.describe()"
   ]
  },
  {
   "cell_type": "code",
   "execution_count": 80,
   "metadata": {},
   "outputs": [
    {
     "data": {
      "text/plain": [
       "AAGR_birth        -0.09\n",
       "AAGR_married      -0.06\n",
       "영유아/정원             4.83\n",
       "평균소득            7281.59\n",
       "cluster            0.00\n",
       "dtype: float64"
      ]
     },
     "execution_count": 80,
     "metadata": {},
     "output_type": "execute_result"
    }
   ],
   "source": [
    "cluster0.median()"
   ]
  },
  {
   "cell_type": "code",
   "execution_count": 81,
   "metadata": {},
   "outputs": [
    {
     "data": {
      "text/html": [
       "<div>\n",
       "<style scoped>\n",
       "    .dataframe tbody tr th:only-of-type {\n",
       "        vertical-align: middle;\n",
       "    }\n",
       "\n",
       "    .dataframe tbody tr th {\n",
       "        vertical-align: top;\n",
       "    }\n",
       "\n",
       "    .dataframe thead th {\n",
       "        text-align: right;\n",
       "    }\n",
       "</style>\n",
       "<table border=\"1\" class=\"dataframe\">\n",
       "  <thead>\n",
       "    <tr style=\"text-align: right;\">\n",
       "      <th></th>\n",
       "      <th>AAGR_birth</th>\n",
       "      <th>AAGR_married</th>\n",
       "      <th>영유아/정원</th>\n",
       "      <th>평균소득</th>\n",
       "      <th>cluster</th>\n",
       "    </tr>\n",
       "  </thead>\n",
       "  <tbody>\n",
       "    <tr>\n",
       "      <th>count</th>\n",
       "      <td>42.000000</td>\n",
       "      <td>42.000000</td>\n",
       "      <td>42.000000</td>\n",
       "      <td>42.000000</td>\n",
       "      <td>42.0</td>\n",
       "    </tr>\n",
       "    <tr>\n",
       "      <th>mean</th>\n",
       "      <td>0.075000</td>\n",
       "      <td>0.022381</td>\n",
       "      <td>3.200000</td>\n",
       "      <td>4102.114286</td>\n",
       "      <td>1.0</td>\n",
       "    </tr>\n",
       "    <tr>\n",
       "      <th>std</th>\n",
       "      <td>0.245061</td>\n",
       "      <td>0.263687</td>\n",
       "      <td>0.788184</td>\n",
       "      <td>498.836913</td>\n",
       "      <td>0.0</td>\n",
       "    </tr>\n",
       "    <tr>\n",
       "      <th>min</th>\n",
       "      <td>-0.160000</td>\n",
       "      <td>-0.180000</td>\n",
       "      <td>1.310000</td>\n",
       "      <td>3321.140000</td>\n",
       "      <td>1.0</td>\n",
       "    </tr>\n",
       "    <tr>\n",
       "      <th>25%</th>\n",
       "      <td>-0.070000</td>\n",
       "      <td>-0.100000</td>\n",
       "      <td>2.610000</td>\n",
       "      <td>3698.361250</td>\n",
       "      <td>1.0</td>\n",
       "    </tr>\n",
       "    <tr>\n",
       "      <th>50%</th>\n",
       "      <td>-0.005000</td>\n",
       "      <td>-0.050000</td>\n",
       "      <td>3.185000</td>\n",
       "      <td>3948.465000</td>\n",
       "      <td>1.0</td>\n",
       "    </tr>\n",
       "    <tr>\n",
       "      <th>75%</th>\n",
       "      <td>0.132500</td>\n",
       "      <td>0.080000</td>\n",
       "      <td>3.685000</td>\n",
       "      <td>4550.177500</td>\n",
       "      <td>1.0</td>\n",
       "    </tr>\n",
       "    <tr>\n",
       "      <th>max</th>\n",
       "      <td>1.000000</td>\n",
       "      <td>1.510000</td>\n",
       "      <td>4.780000</td>\n",
       "      <td>5417.950000</td>\n",
       "      <td>1.0</td>\n",
       "    </tr>\n",
       "  </tbody>\n",
       "</table>\n",
       "</div>"
      ],
      "text/plain": [
       "       AAGR_birth  AAGR_married     영유아/정원         평균소득  cluster\n",
       "count   42.000000     42.000000  42.000000    42.000000     42.0\n",
       "mean     0.075000      0.022381   3.200000  4102.114286      1.0\n",
       "std      0.245061      0.263687   0.788184   498.836913      0.0\n",
       "min     -0.160000     -0.180000   1.310000  3321.140000      1.0\n",
       "25%     -0.070000     -0.100000   2.610000  3698.361250      1.0\n",
       "50%     -0.005000     -0.050000   3.185000  3948.465000      1.0\n",
       "75%      0.132500      0.080000   3.685000  4550.177500      1.0\n",
       "max      1.000000      1.510000   4.780000  5417.950000      1.0"
      ]
     },
     "execution_count": 81,
     "metadata": {},
     "output_type": "execute_result"
    }
   ],
   "source": [
    "cluster1.describe()"
   ]
  },
  {
   "cell_type": "code",
   "execution_count": 82,
   "metadata": {},
   "outputs": [
    {
     "data": {
      "text/html": [
       "<div>\n",
       "<style scoped>\n",
       "    .dataframe tbody tr th:only-of-type {\n",
       "        vertical-align: middle;\n",
       "    }\n",
       "\n",
       "    .dataframe tbody tr th {\n",
       "        vertical-align: top;\n",
       "    }\n",
       "\n",
       "    .dataframe thead th {\n",
       "        text-align: right;\n",
       "    }\n",
       "</style>\n",
       "<table border=\"1\" class=\"dataframe\">\n",
       "  <thead>\n",
       "    <tr style=\"text-align: right;\">\n",
       "      <th></th>\n",
       "      <th>AAGR_birth</th>\n",
       "      <th>AAGR_married</th>\n",
       "      <th>영유아/정원</th>\n",
       "      <th>평균소득</th>\n",
       "      <th>cluster</th>\n",
       "    </tr>\n",
       "  </thead>\n",
       "  <tbody>\n",
       "    <tr>\n",
       "      <th>count</th>\n",
       "      <td>95.000000</td>\n",
       "      <td>95.000000</td>\n",
       "      <td>95.000000</td>\n",
       "      <td>95.000000</td>\n",
       "      <td>95.0</td>\n",
       "    </tr>\n",
       "    <tr>\n",
       "      <th>mean</th>\n",
       "      <td>-0.087368</td>\n",
       "      <td>-0.091579</td>\n",
       "      <td>2.011263</td>\n",
       "      <td>5507.958126</td>\n",
       "      <td>2.0</td>\n",
       "    </tr>\n",
       "    <tr>\n",
       "      <th>std</th>\n",
       "      <td>0.089028</td>\n",
       "      <td>0.089446</td>\n",
       "      <td>0.593286</td>\n",
       "      <td>648.016246</td>\n",
       "      <td>0.0</td>\n",
       "    </tr>\n",
       "    <tr>\n",
       "      <th>min</th>\n",
       "      <td>-0.290000</td>\n",
       "      <td>-0.420000</td>\n",
       "      <td>0.620000</td>\n",
       "      <td>4722.200000</td>\n",
       "      <td>2.0</td>\n",
       "    </tr>\n",
       "    <tr>\n",
       "      <th>25%</th>\n",
       "      <td>-0.150000</td>\n",
       "      <td>-0.140000</td>\n",
       "      <td>1.570000</td>\n",
       "      <td>5017.060000</td>\n",
       "      <td>2.0</td>\n",
       "    </tr>\n",
       "    <tr>\n",
       "      <th>50%</th>\n",
       "      <td>-0.090000</td>\n",
       "      <td>-0.100000</td>\n",
       "      <td>2.010000</td>\n",
       "      <td>5327.280000</td>\n",
       "      <td>2.0</td>\n",
       "    </tr>\n",
       "    <tr>\n",
       "      <th>75%</th>\n",
       "      <td>-0.035000</td>\n",
       "      <td>-0.055000</td>\n",
       "      <td>2.400000</td>\n",
       "      <td>5700.110000</td>\n",
       "      <td>2.0</td>\n",
       "    </tr>\n",
       "    <tr>\n",
       "      <th>max</th>\n",
       "      <td>0.350000</td>\n",
       "      <td>0.180000</td>\n",
       "      <td>3.600000</td>\n",
       "      <td>7419.950000</td>\n",
       "      <td>2.0</td>\n",
       "    </tr>\n",
       "  </tbody>\n",
       "</table>\n",
       "</div>"
      ],
      "text/plain": [
       "       AAGR_birth  AAGR_married     영유아/정원         평균소득  cluster\n",
       "count   95.000000     95.000000  95.000000    95.000000     95.0\n",
       "mean    -0.087368     -0.091579   2.011263  5507.958126      2.0\n",
       "std      0.089028      0.089446   0.593286   648.016246      0.0\n",
       "min     -0.290000     -0.420000   0.620000  4722.200000      2.0\n",
       "25%     -0.150000     -0.140000   1.570000  5017.060000      2.0\n",
       "50%     -0.090000     -0.100000   2.010000  5327.280000      2.0\n",
       "75%     -0.035000     -0.055000   2.400000  5700.110000      2.0\n",
       "max      0.350000      0.180000   3.600000  7419.950000      2.0"
      ]
     },
     "execution_count": 82,
     "metadata": {},
     "output_type": "execute_result"
    }
   ],
   "source": [
    "cluster2.describe()"
   ]
  },
  {
   "cell_type": "code",
   "execution_count": 83,
   "metadata": {},
   "outputs": [
    {
     "data": {
      "text/html": [
       "<div>\n",
       "<style scoped>\n",
       "    .dataframe tbody tr th:only-of-type {\n",
       "        vertical-align: middle;\n",
       "    }\n",
       "\n",
       "    .dataframe tbody tr th {\n",
       "        vertical-align: top;\n",
       "    }\n",
       "\n",
       "    .dataframe thead th {\n",
       "        text-align: right;\n",
       "    }\n",
       "</style>\n",
       "<table border=\"1\" class=\"dataframe\">\n",
       "  <thead>\n",
       "    <tr style=\"text-align: right;\">\n",
       "      <th></th>\n",
       "      <th>AAGR_birth</th>\n",
       "      <th>AAGR_married</th>\n",
       "      <th>영유아/정원</th>\n",
       "      <th>평균소득</th>\n",
       "      <th>cluster</th>\n",
       "    </tr>\n",
       "  </thead>\n",
       "  <tbody>\n",
       "    <tr>\n",
       "      <th>count</th>\n",
       "      <td>13.000000</td>\n",
       "      <td>13.000000</td>\n",
       "      <td>13.000000</td>\n",
       "      <td>13.000000</td>\n",
       "      <td>13.0</td>\n",
       "    </tr>\n",
       "    <tr>\n",
       "      <th>mean</th>\n",
       "      <td>-0.078462</td>\n",
       "      <td>-0.095385</td>\n",
       "      <td>2.195385</td>\n",
       "      <td>10301.587179</td>\n",
       "      <td>3.0</td>\n",
       "    </tr>\n",
       "    <tr>\n",
       "      <th>std</th>\n",
       "      <td>0.062028</td>\n",
       "      <td>0.121217</td>\n",
       "      <td>1.350880</td>\n",
       "      <td>1035.959898</td>\n",
       "      <td>0.0</td>\n",
       "    </tr>\n",
       "    <tr>\n",
       "      <th>min</th>\n",
       "      <td>-0.170000</td>\n",
       "      <td>-0.350000</td>\n",
       "      <td>0.980000</td>\n",
       "      <td>8492.840000</td>\n",
       "      <td>3.0</td>\n",
       "    </tr>\n",
       "    <tr>\n",
       "      <th>25%</th>\n",
       "      <td>-0.130000</td>\n",
       "      <td>-0.160000</td>\n",
       "      <td>1.530000</td>\n",
       "      <td>9961.980000</td>\n",
       "      <td>3.0</td>\n",
       "    </tr>\n",
       "    <tr>\n",
       "      <th>50%</th>\n",
       "      <td>-0.080000</td>\n",
       "      <td>-0.120000</td>\n",
       "      <td>1.860000</td>\n",
       "      <td>10292.980000</td>\n",
       "      <td>3.0</td>\n",
       "    </tr>\n",
       "    <tr>\n",
       "      <th>75%</th>\n",
       "      <td>-0.040000</td>\n",
       "      <td>0.000000</td>\n",
       "      <td>2.100000</td>\n",
       "      <td>10875.760000</td>\n",
       "      <td>3.0</td>\n",
       "    </tr>\n",
       "    <tr>\n",
       "      <th>max</th>\n",
       "      <td>0.050000</td>\n",
       "      <td>0.110000</td>\n",
       "      <td>5.410000</td>\n",
       "      <td>11959.760000</td>\n",
       "      <td>3.0</td>\n",
       "    </tr>\n",
       "  </tbody>\n",
       "</table>\n",
       "</div>"
      ],
      "text/plain": [
       "       AAGR_birth  AAGR_married     영유아/정원          평균소득  cluster\n",
       "count   13.000000     13.000000  13.000000     13.000000     13.0\n",
       "mean    -0.078462     -0.095385   2.195385  10301.587179      3.0\n",
       "std      0.062028      0.121217   1.350880   1035.959898      0.0\n",
       "min     -0.170000     -0.350000   0.980000   8492.840000      3.0\n",
       "25%     -0.130000     -0.160000   1.530000   9961.980000      3.0\n",
       "50%     -0.080000     -0.120000   1.860000  10292.980000      3.0\n",
       "75%     -0.040000      0.000000   2.100000  10875.760000      3.0\n",
       "max      0.050000      0.110000   5.410000  11959.760000      3.0"
      ]
     },
     "execution_count": 83,
     "metadata": {},
     "output_type": "execute_result"
    }
   ],
   "source": [
    "cluster3.describe()"
   ]
  },
  {
   "cell_type": "code",
   "execution_count": 84,
   "metadata": {},
   "outputs": [
    {
     "data": {
      "text/html": [
       "<div>\n",
       "<style scoped>\n",
       "    .dataframe tbody tr th:only-of-type {\n",
       "        vertical-align: middle;\n",
       "    }\n",
       "\n",
       "    .dataframe tbody tr th {\n",
       "        vertical-align: top;\n",
       "    }\n",
       "\n",
       "    .dataframe thead th {\n",
       "        text-align: right;\n",
       "    }\n",
       "</style>\n",
       "<table border=\"1\" class=\"dataframe\">\n",
       "  <thead>\n",
       "    <tr style=\"text-align: right;\">\n",
       "      <th></th>\n",
       "      <th>AAGR_birth</th>\n",
       "      <th>AAGR_married</th>\n",
       "      <th>영유아/정원</th>\n",
       "      <th>평균소득</th>\n",
       "      <th>cluster</th>\n",
       "    </tr>\n",
       "  </thead>\n",
       "  <tbody>\n",
       "    <tr>\n",
       "      <th>count</th>\n",
       "      <td>150.000000</td>\n",
       "      <td>150.000000</td>\n",
       "      <td>150.000000</td>\n",
       "      <td>150.000000</td>\n",
       "      <td>150.0</td>\n",
       "    </tr>\n",
       "    <tr>\n",
       "      <th>mean</th>\n",
       "      <td>-0.100800</td>\n",
       "      <td>-0.093667</td>\n",
       "      <td>1.559800</td>\n",
       "      <td>4014.026937</td>\n",
       "      <td>4.0</td>\n",
       "    </tr>\n",
       "    <tr>\n",
       "      <th>std</th>\n",
       "      <td>0.072801</td>\n",
       "      <td>0.087289</td>\n",
       "      <td>0.463485</td>\n",
       "      <td>401.550615</td>\n",
       "      <td>0.0</td>\n",
       "    </tr>\n",
       "    <tr>\n",
       "      <th>min</th>\n",
       "      <td>-0.360000</td>\n",
       "      <td>-0.390000</td>\n",
       "      <td>0.460000</td>\n",
       "      <td>3321.140000</td>\n",
       "      <td>4.0</td>\n",
       "    </tr>\n",
       "    <tr>\n",
       "      <th>25%</th>\n",
       "      <td>-0.150000</td>\n",
       "      <td>-0.150000</td>\n",
       "      <td>1.255000</td>\n",
       "      <td>3676.980000</td>\n",
       "      <td>4.0</td>\n",
       "    </tr>\n",
       "    <tr>\n",
       "      <th>50%</th>\n",
       "      <td>-0.100000</td>\n",
       "      <td>-0.095000</td>\n",
       "      <td>1.555000</td>\n",
       "      <td>3946.820000</td>\n",
       "      <td>4.0</td>\n",
       "    </tr>\n",
       "    <tr>\n",
       "      <th>75%</th>\n",
       "      <td>-0.060000</td>\n",
       "      <td>-0.050000</td>\n",
       "      <td>1.870000</td>\n",
       "      <td>4331.640000</td>\n",
       "      <td>4.0</td>\n",
       "    </tr>\n",
       "    <tr>\n",
       "      <th>max</th>\n",
       "      <td>0.130000</td>\n",
       "      <td>0.190000</td>\n",
       "      <td>2.600000</td>\n",
       "      <td>5054.020000</td>\n",
       "      <td>4.0</td>\n",
       "    </tr>\n",
       "  </tbody>\n",
       "</table>\n",
       "</div>"
      ],
      "text/plain": [
       "       AAGR_birth  AAGR_married      영유아/정원         평균소득  cluster\n",
       "count  150.000000    150.000000  150.000000   150.000000    150.0\n",
       "mean    -0.100800     -0.093667    1.559800  4014.026937      4.0\n",
       "std      0.072801      0.087289    0.463485   401.550615      0.0\n",
       "min     -0.360000     -0.390000    0.460000  3321.140000      4.0\n",
       "25%     -0.150000     -0.150000    1.255000  3676.980000      4.0\n",
       "50%     -0.100000     -0.095000    1.555000  3946.820000      4.0\n",
       "75%     -0.060000     -0.050000    1.870000  4331.640000      4.0\n",
       "max      0.130000      0.190000    2.600000  5054.020000      4.0"
      ]
     },
     "execution_count": 84,
     "metadata": {},
     "output_type": "execute_result"
    }
   ],
   "source": [
    "cluster4.describe()"
   ]
  },
  {
   "cell_type": "code",
   "execution_count": 85,
   "metadata": {},
   "outputs": [
    {
     "data": {
      "text/html": [
       "<div>\n",
       "<style scoped>\n",
       "    .dataframe tbody tr th:only-of-type {\n",
       "        vertical-align: middle;\n",
       "    }\n",
       "\n",
       "    .dataframe tbody tr th {\n",
       "        vertical-align: top;\n",
       "    }\n",
       "\n",
       "    .dataframe thead th {\n",
       "        text-align: right;\n",
       "    }\n",
       "</style>\n",
       "<table border=\"1\" class=\"dataframe\">\n",
       "  <thead>\n",
       "    <tr style=\"text-align: right;\">\n",
       "      <th></th>\n",
       "      <th>AAGR_birth</th>\n",
       "      <th>AAGR_married</th>\n",
       "      <th>영유아/정원</th>\n",
       "      <th>평균소득</th>\n",
       "      <th>cluster</th>\n",
       "    </tr>\n",
       "    <tr>\n",
       "      <th>지역</th>\n",
       "      <th></th>\n",
       "      <th></th>\n",
       "      <th></th>\n",
       "      <th></th>\n",
       "      <th></th>\n",
       "    </tr>\n",
       "  </thead>\n",
       "  <tbody>\n",
       "    <tr>\n",
       "      <th>강북구_미아동</th>\n",
       "      <td>-0.25</td>\n",
       "      <td>-0.15</td>\n",
       "      <td>1.40</td>\n",
       "      <td>3467.21</td>\n",
       "      <td>4</td>\n",
       "    </tr>\n",
       "    <tr>\n",
       "      <th>강북구_번1동</th>\n",
       "      <td>-0.22</td>\n",
       "      <td>-0.15</td>\n",
       "      <td>1.20</td>\n",
       "      <td>3640.10</td>\n",
       "      <td>4</td>\n",
       "    </tr>\n",
       "    <tr>\n",
       "      <th>강북구_번2동</th>\n",
       "      <td>-0.23</td>\n",
       "      <td>-0.08</td>\n",
       "      <td>1.18</td>\n",
       "      <td>3640.10</td>\n",
       "      <td>4</td>\n",
       "    </tr>\n",
       "    <tr>\n",
       "      <th>강북구_번3동</th>\n",
       "      <td>-0.07</td>\n",
       "      <td>-0.06</td>\n",
       "      <td>1.71</td>\n",
       "      <td>3640.10</td>\n",
       "      <td>4</td>\n",
       "    </tr>\n",
       "    <tr>\n",
       "      <th>강북구_삼각산동</th>\n",
       "      <td>-0.03</td>\n",
       "      <td>-0.16</td>\n",
       "      <td>1.93</td>\n",
       "      <td>3467.21</td>\n",
       "      <td>4</td>\n",
       "    </tr>\n",
       "    <tr>\n",
       "      <th>...</th>\n",
       "      <td>...</td>\n",
       "      <td>...</td>\n",
       "      <td>...</td>\n",
       "      <td>...</td>\n",
       "      <td>...</td>\n",
       "    </tr>\n",
       "    <tr>\n",
       "      <th>중랑구_상봉2동</th>\n",
       "      <td>0.00</td>\n",
       "      <td>0.11</td>\n",
       "      <td>1.69</td>\n",
       "      <td>3987.76</td>\n",
       "      <td>4</td>\n",
       "    </tr>\n",
       "    <tr>\n",
       "      <th>중랑구_신내1동</th>\n",
       "      <td>-0.04</td>\n",
       "      <td>-0.13</td>\n",
       "      <td>1.03</td>\n",
       "      <td>3837.79</td>\n",
       "      <td>4</td>\n",
       "    </tr>\n",
       "    <tr>\n",
       "      <th>중랑구_신내2동</th>\n",
       "      <td>-0.13</td>\n",
       "      <td>-0.09</td>\n",
       "      <td>1.22</td>\n",
       "      <td>3837.79</td>\n",
       "      <td>4</td>\n",
       "    </tr>\n",
       "    <tr>\n",
       "      <th>중랑구_중화1동</th>\n",
       "      <td>-0.15</td>\n",
       "      <td>-0.20</td>\n",
       "      <td>1.66</td>\n",
       "      <td>3967.03</td>\n",
       "      <td>4</td>\n",
       "    </tr>\n",
       "    <tr>\n",
       "      <th>중랑구_중화2동</th>\n",
       "      <td>-0.05</td>\n",
       "      <td>-0.04</td>\n",
       "      <td>1.87</td>\n",
       "      <td>3967.03</td>\n",
       "      <td>4</td>\n",
       "    </tr>\n",
       "  </tbody>\n",
       "</table>\n",
       "<p>150 rows × 5 columns</p>\n",
       "</div>"
      ],
      "text/plain": [
       "          AAGR_birth  AAGR_married  영유아/정원     평균소득  cluster\n",
       "지역                                                          \n",
       "강북구_미아동        -0.25         -0.15    1.40  3467.21        4\n",
       "강북구_번1동        -0.22         -0.15    1.20  3640.10        4\n",
       "강북구_번2동        -0.23         -0.08    1.18  3640.10        4\n",
       "강북구_번3동        -0.07         -0.06    1.71  3640.10        4\n",
       "강북구_삼각산동       -0.03         -0.16    1.93  3467.21        4\n",
       "...              ...           ...     ...      ...      ...\n",
       "중랑구_상봉2동        0.00          0.11    1.69  3987.76        4\n",
       "중랑구_신내1동       -0.04         -0.13    1.03  3837.79        4\n",
       "중랑구_신내2동       -0.13         -0.09    1.22  3837.79        4\n",
       "중랑구_중화1동       -0.15         -0.20    1.66  3967.03        4\n",
       "중랑구_중화2동       -0.05         -0.04    1.87  3967.03        4\n",
       "\n",
       "[150 rows x 5 columns]"
      ]
     },
     "execution_count": 85,
     "metadata": {},
     "output_type": "execute_result"
    }
   ],
   "source": [
    "cluster4"
   ]
  },
  {
   "cell_type": "markdown",
   "metadata": {},
   "source": [
    "--------"
   ]
  },
  {
   "cell_type": "code",
   "execution_count": 86,
   "metadata": {},
   "outputs": [
    {
     "data": {
      "text/html": [
       "<div>\n",
       "<style scoped>\n",
       "    .dataframe tbody tr th:only-of-type {\n",
       "        vertical-align: middle;\n",
       "    }\n",
       "\n",
       "    .dataframe tbody tr th {\n",
       "        vertical-align: top;\n",
       "    }\n",
       "\n",
       "    .dataframe thead th {\n",
       "        text-align: right;\n",
       "    }\n",
       "</style>\n",
       "<table border=\"1\" class=\"dataframe\">\n",
       "  <thead>\n",
       "    <tr style=\"text-align: right;\">\n",
       "      <th></th>\n",
       "      <th>cluster0</th>\n",
       "      <th>cluster1</th>\n",
       "      <th>cluster2</th>\n",
       "      <th>cluster3</th>\n",
       "      <th>cluster4</th>\n",
       "    </tr>\n",
       "  </thead>\n",
       "  <tbody>\n",
       "    <tr>\n",
       "      <th>AAGR_birth</th>\n",
       "      <td>0.249091</td>\n",
       "      <td>0.075000</td>\n",
       "      <td>-0.087368</td>\n",
       "      <td>-0.078462</td>\n",
       "      <td>-0.100800</td>\n",
       "    </tr>\n",
       "    <tr>\n",
       "      <th>AAGR_married</th>\n",
       "      <td>-0.002727</td>\n",
       "      <td>0.022381</td>\n",
       "      <td>-0.091579</td>\n",
       "      <td>-0.095385</td>\n",
       "      <td>-0.093667</td>\n",
       "    </tr>\n",
       "    <tr>\n",
       "      <th>영유아/정원</th>\n",
       "      <td>5.079091</td>\n",
       "      <td>3.200000</td>\n",
       "      <td>2.011263</td>\n",
       "      <td>2.195385</td>\n",
       "      <td>1.559800</td>\n",
       "    </tr>\n",
       "    <tr>\n",
       "      <th>평균소득</th>\n",
       "      <td>7302.105000</td>\n",
       "      <td>4102.114286</td>\n",
       "      <td>5507.958126</td>\n",
       "      <td>10301.587179</td>\n",
       "      <td>4014.026937</td>\n",
       "    </tr>\n",
       "    <tr>\n",
       "      <th>cluster</th>\n",
       "      <td>0.000000</td>\n",
       "      <td>1.000000</td>\n",
       "      <td>2.000000</td>\n",
       "      <td>3.000000</td>\n",
       "      <td>4.000000</td>\n",
       "    </tr>\n",
       "  </tbody>\n",
       "</table>\n",
       "</div>"
      ],
      "text/plain": [
       "                 cluster0     cluster1     cluster2      cluster3     cluster4\n",
       "AAGR_birth       0.249091     0.075000    -0.087368     -0.078462    -0.100800\n",
       "AAGR_married    -0.002727     0.022381    -0.091579     -0.095385    -0.093667\n",
       "영유아/정원           5.079091     3.200000     2.011263      2.195385     1.559800\n",
       "평균소득          7302.105000  4102.114286  5507.958126  10301.587179  4014.026937\n",
       "cluster          0.000000     1.000000     2.000000      3.000000     4.000000"
      ]
     },
     "execution_count": 86,
     "metadata": {},
     "output_type": "execute_result"
    }
   ],
   "source": [
    "df0 = pd.DataFrame(cluster0.mean(),columns=['cluster0'])\n",
    "df1 = pd.DataFrame(cluster1.mean(),columns=['cluster1'])\n",
    "df2 = pd.DataFrame(cluster2.mean(),columns=['cluster2'])\n",
    "df3 = pd.DataFrame(cluster3.mean(),columns=['cluster3'])\n",
    "df4 = pd.DataFrame(cluster4.mean(),columns=['cluster4'])\n",
    "\n",
    "mean_df = pd.concat([df0,df1,df2,df3,df4],axis=1)\n",
    "mean_df"
   ]
  },
  {
   "cell_type": "code",
   "execution_count": 87,
   "metadata": {},
   "outputs": [],
   "source": [
    "mean_df = mean_df.transpose()"
   ]
  },
  {
   "cell_type": "code",
   "execution_count": 88,
   "metadata": {},
   "outputs": [
    {
     "data": {
      "image/png": "[encoded data removed]",
      "text/plain": [
       "<Figure size 2160x2160 with 4 Axes>"
      ]
     },
     "metadata": {
      "needs_background": "light"
     },
     "output_type": "display_data"
    }
   ],
   "source": [
    "mean_col = ['AAGR_birth','AAGR_married','영유아/정원','평균소득']\n",
    "colors = ['lightgreen','skyblue','pink','orange','red']\n",
    "\n",
    "fig, ax = plt.subplots(figsize = (30,30))\n",
    "plt.rc('font', family='AppleGothic')\n",
    "\n",
    "for i, mean_col in enumerate(mean_col):\n",
    "    plt.subplot(3, 2 , i+1) #subplot(nrows, ncols, index)\n",
    "    plt.title(mean_col)\n",
    "    mean_df[mean_col].plot.bar(color=colors[i])\n"
   ]
  },
  {
   "cell_type": "markdown",
   "metadata": {},
   "source": [
    "# 13. 최종 군집 선정 및 데이터 저장 "
   ]
  },
  {
   "cell_type": "code",
   "execution_count": 88,
   "metadata": {},
   "outputs": [
    {
     "data": {
      "text/html": [
       "<div>\n",
       "<style scoped>\n",
       "    .dataframe tbody tr th:only-of-type {\n",
       "        vertical-align: middle;\n",
       "    }\n",
       "\n",
       "    .dataframe tbody tr th {\n",
       "        vertical-align: top;\n",
       "    }\n",
       "\n",
       "    .dataframe thead th {\n",
       "        text-align: right;\n",
       "    }\n",
       "</style>\n",
       "<table border=\"1\" class=\"dataframe\">\n",
       "  <thead>\n",
       "    <tr style=\"text-align: right;\">\n",
       "      <th></th>\n",
       "      <th>AAGR_birth</th>\n",
       "      <th>AAGR_married</th>\n",
       "      <th>영유아/정원</th>\n",
       "      <th>평균소득</th>\n",
       "      <th>cluster</th>\n",
       "    </tr>\n",
       "    <tr>\n",
       "      <th>지역</th>\n",
       "      <th></th>\n",
       "      <th></th>\n",
       "      <th></th>\n",
       "      <th></th>\n",
       "      <th></th>\n",
       "    </tr>\n",
       "  </thead>\n",
       "  <tbody>\n",
       "    <tr>\n",
       "      <th>강남구_개포1동</th>\n",
       "      <td>-0.26</td>\n",
       "      <td>-0.24</td>\n",
       "      <td>6.48</td>\n",
       "      <td>8492.840000</td>\n",
       "      <td>0</td>\n",
       "    </tr>\n",
       "    <tr>\n",
       "      <th>강남구_개포2동</th>\n",
       "      <td>0.51</td>\n",
       "      <td>0.18</td>\n",
       "      <td>4.88</td>\n",
       "      <td>9551.995000</td>\n",
       "      <td>0</td>\n",
       "    </tr>\n",
       "    <tr>\n",
       "      <th>강남구_개포4동</th>\n",
       "      <td>0.05</td>\n",
       "      <td>0.00</td>\n",
       "      <td>1.72</td>\n",
       "      <td>8492.840000</td>\n",
       "      <td>3</td>\n",
       "    </tr>\n",
       "    <tr>\n",
       "      <th>강남구_세곡동</th>\n",
       "      <td>-0.08</td>\n",
       "      <td>-0.09</td>\n",
       "      <td>1.86</td>\n",
       "      <td>10956.943333</td>\n",
       "      <td>3</td>\n",
       "    </tr>\n",
       "    <tr>\n",
       "      <th>강남구_일원1동</th>\n",
       "      <td>-0.16</td>\n",
       "      <td>0.06</td>\n",
       "      <td>0.98</td>\n",
       "      <td>11959.760000</td>\n",
       "      <td>3</td>\n",
       "    </tr>\n",
       "  </tbody>\n",
       "</table>\n",
       "</div>"
      ],
      "text/plain": [
       "          AAGR_birth  AAGR_married  영유아/정원          평균소득  cluster\n",
       "지역                                                               \n",
       "강남구_개포1동       -0.26         -0.24    6.48   8492.840000        0\n",
       "강남구_개포2동        0.51          0.18    4.88   9551.995000        0\n",
       "강남구_개포4동        0.05          0.00    1.72   8492.840000        3\n",
       "강남구_세곡동        -0.08         -0.09    1.86  10956.943333        3\n",
       "강남구_일원1동       -0.16          0.06    0.98  11959.760000        3"
      ]
     },
     "execution_count": 88,
     "metadata": {},
     "output_type": "execute_result"
    }
   ],
   "source": [
    "combined_df.head()"
   ]
  },
  {
   "cell_type": "code",
   "execution_count": 89,
   "metadata": {},
   "outputs": [
    {
     "data": {
      "text/plain": [
       "(1,\n",
       "             AAGR_birth  AAGR_married  영유아/정원      평균소득  cluster\n",
       " 지역                                                             \n",
       " 강북구_인수동          -0.09         -0.11    3.48  3657.810        1\n",
       " 구로구_신도림동         -0.05         -0.05    2.61  4030.190        1\n",
       " 노원구_상계10동        -0.02         -0.14    2.61  3676.980        1\n",
       " 노원구_상계8동         -0.07          0.10    2.57  3676.980        1\n",
       " 노원구_상계9동         -0.09         -0.08    3.33  3676.980        1\n",
       " 노원구_중계4동         -0.16         -0.02    4.12  3321.140        1\n",
       " 노원구_중계본동         -0.12         -0.09    3.29  3321.140        1\n",
       " 노원구_하계2동          0.01         -0.13    3.70  4133.370        1\n",
       " 도봉구_쌍문4동          0.01         -0.05    3.83  3714.430        1\n",
       " 동대문구_답십리1동        0.00         -0.09    2.61  3673.980        1\n",
       " 동대문구_장안2동         0.03         -0.06    2.34  3908.200        1\n",
       " 동대문구_휘경1동         0.03         -0.10    3.46  4105.240        1\n",
       " 동작구_사당5동          0.00          0.21    3.95  5417.950        1\n",
       " 동작구_상도2동         -0.04          0.03    3.54  5000.160        1\n",
       " 마포구_염리동           0.18          0.19    2.31  4519.120        1\n",
       " 서대문구_남가좌2동        0.29         -0.03    2.32  3944.750        1\n",
       " 서대문구_북가좌2동       -0.16         -0.06    3.04  4564.930        1\n",
       " 서대문구_홍은1동         0.06         -0.09    4.48  3830.590        1\n",
       " 서대문구_홍은2동        -0.09         -0.08    3.43  3830.590        1\n",
       " 성동구_왕십리도선동       -0.12         -0.11    3.64  4153.840        1\n",
       " 성동구_응봉동          -0.02         -0.18    3.49  5162.030        1\n",
       " 성북구_길음1동         -0.10         -0.14    3.19  3845.540        1\n",
       " 성북구_길음2동          0.35          0.19    3.44  3693.005        1\n",
       " 성북구_돈암2동         -0.06         -0.02    4.41  3783.380        1\n",
       " 성북구_석관동           0.04          0.04    2.57  3600.150        1\n",
       " 성북구_장위1동          0.14          0.00    3.92  3804.880        1\n",
       " 성북구_장위3동          0.48          0.15    2.70  3804.880        1\n",
       " 양천구_신월6동          1.00          1.51    1.89  3644.810        1\n",
       " 양천구_신정3동         -0.03         -0.03    2.98  4828.510        1\n",
       " 양천구_신정6동         -0.09         -0.03    3.03  4828.510        1\n",
       " 영등포구_신길3동         0.01         -0.10    2.66  4604.090        1\n",
       " 영등포구_신길4동         0.64          0.19    1.31  4604.090        1\n",
       " 영등포구_신길5동         0.27          0.29    2.65  4647.465        1\n",
       " 영등포구_신길7동        -0.04          0.09    3.97  4604.090        1\n",
       " 용산구_원효로1동        -0.01         -0.14    4.31  4174.710        1\n",
       " 용산구_원효로2동        -0.03         -0.09    3.18  4560.530        1\n",
       " 은평구_수색동           0.18          0.08    4.64  3952.180        1\n",
       " 은평구_응암2동          0.11          0.08    2.55  4056.600        1\n",
       " 종로구_무악동           0.67         -0.10    1.82  4367.370        1\n",
       " 중랑구_망우본동         -0.14         -0.12    3.18  3927.860        1\n",
       " 중랑구_면목5동          0.25          0.19    4.78  3647.990        1\n",
       " 중랑구_상봉1동         -0.07         -0.16    3.07  3987.760        1)"
      ]
     },
     "execution_count": 89,
     "metadata": {},
     "output_type": "execute_result"
    }
   ],
   "source": [
    "#재확인\n",
    "s = list(combined_df.groupby('cluster'))\n",
    "s[1]"
   ]
  },
  {
   "cell_type": "code",
   "execution_count": null,
   "metadata": {},
   "outputs": [],
   "source": []
  },
  {
   "cell_type": "markdown",
   "metadata": {},
   "source": [
    "-----"
   ]
  },
  {
   "cell_type": "code",
   "execution_count": 90,
   "metadata": {},
   "outputs": [],
   "source": [
    "complete_combined_df = combined_df.copy()"
   ]
  },
  {
   "cell_type": "code",
   "execution_count": 91,
   "metadata": {},
   "outputs": [],
   "source": [
    "complete_combined_df.reset_index(inplace=True)"
   ]
  },
  {
   "cell_type": "code",
   "execution_count": 92,
   "metadata": {},
   "outputs": [
    {
     "data": {
      "text/html": [
       "<div>\n",
       "<style scoped>\n",
       "    .dataframe tbody tr th:only-of-type {\n",
       "        vertical-align: middle;\n",
       "    }\n",
       "\n",
       "    .dataframe tbody tr th {\n",
       "        vertical-align: top;\n",
       "    }\n",
       "\n",
       "    .dataframe thead th {\n",
       "        text-align: right;\n",
       "    }\n",
       "</style>\n",
       "<table border=\"1\" class=\"dataframe\">\n",
       "  <thead>\n",
       "    <tr style=\"text-align: right;\">\n",
       "      <th></th>\n",
       "      <th>AAGR_birth</th>\n",
       "      <th>AAGR_married</th>\n",
       "      <th>영유아/정원</th>\n",
       "      <th>평균소득</th>\n",
       "      <th>cluster</th>\n",
       "      <th>행정구</th>\n",
       "      <th>행정동</th>\n",
       "    </tr>\n",
       "  </thead>\n",
       "  <tbody>\n",
       "    <tr>\n",
       "      <th>0</th>\n",
       "      <td>-0.26</td>\n",
       "      <td>-0.24</td>\n",
       "      <td>6.48</td>\n",
       "      <td>8492.840000</td>\n",
       "      <td>0</td>\n",
       "      <td>강남구</td>\n",
       "      <td>개포1동</td>\n",
       "    </tr>\n",
       "    <tr>\n",
       "      <th>1</th>\n",
       "      <td>0.51</td>\n",
       "      <td>0.18</td>\n",
       "      <td>4.88</td>\n",
       "      <td>9551.995000</td>\n",
       "      <td>0</td>\n",
       "      <td>강남구</td>\n",
       "      <td>개포2동</td>\n",
       "    </tr>\n",
       "    <tr>\n",
       "      <th>2</th>\n",
       "      <td>0.05</td>\n",
       "      <td>0.00</td>\n",
       "      <td>1.72</td>\n",
       "      <td>8492.840000</td>\n",
       "      <td>3</td>\n",
       "      <td>강남구</td>\n",
       "      <td>개포4동</td>\n",
       "    </tr>\n",
       "    <tr>\n",
       "      <th>3</th>\n",
       "      <td>-0.08</td>\n",
       "      <td>-0.09</td>\n",
       "      <td>1.86</td>\n",
       "      <td>10956.943333</td>\n",
       "      <td>3</td>\n",
       "      <td>강남구</td>\n",
       "      <td>세곡동</td>\n",
       "    </tr>\n",
       "    <tr>\n",
       "      <th>4</th>\n",
       "      <td>-0.16</td>\n",
       "      <td>0.06</td>\n",
       "      <td>0.98</td>\n",
       "      <td>11959.760000</td>\n",
       "      <td>3</td>\n",
       "      <td>강남구</td>\n",
       "      <td>일원1동</td>\n",
       "    </tr>\n",
       "  </tbody>\n",
       "</table>\n",
       "</div>"
      ],
      "text/plain": [
       "   AAGR_birth  AAGR_married  영유아/정원          평균소득  cluster  행정구   행정동\n",
       "0       -0.26         -0.24    6.48   8492.840000        0  강남구  개포1동\n",
       "1        0.51          0.18    4.88   9551.995000        0  강남구  개포2동\n",
       "2        0.05          0.00    1.72   8492.840000        3  강남구  개포4동\n",
       "3       -0.08         -0.09    1.86  10956.943333        3  강남구   세곡동\n",
       "4       -0.16          0.06    0.98  11959.760000        3  강남구  일원1동"
      ]
     },
     "execution_count": 92,
     "metadata": {},
     "output_type": "execute_result"
    }
   ],
   "source": [
    "complete_combined_df['행정구'] = complete_combined_df.지역.apply(lambda x: x.split('_')[0])\n",
    "complete_combined_df['행정동'] = complete_combined_df.지역.apply(lambda x: x.split('_')[1])\n",
    "complete_combined_df = complete_combined_df.drop(columns=['지역'], axis=1)\n",
    "complete_combined_df.head()"
   ]
  },
  {
   "cell_type": "code",
   "execution_count": 93,
   "metadata": {},
   "outputs": [
    {
     "data": {
      "text/html": [
       "<div>\n",
       "<style scoped>\n",
       "    .dataframe tbody tr th:only-of-type {\n",
       "        vertical-align: middle;\n",
       "    }\n",
       "\n",
       "    .dataframe tbody tr th {\n",
       "        vertical-align: top;\n",
       "    }\n",
       "\n",
       "    .dataframe thead th {\n",
       "        text-align: right;\n",
       "    }\n",
       "</style>\n",
       "<table border=\"1\" class=\"dataframe\">\n",
       "  <thead>\n",
       "    <tr style=\"text-align: right;\">\n",
       "      <th></th>\n",
       "      <th>행정구</th>\n",
       "      <th>행정동</th>\n",
       "      <th>행정구역코드</th>\n",
       "      <th>행정기관코드</th>\n",
       "    </tr>\n",
       "  </thead>\n",
       "  <tbody>\n",
       "    <tr>\n",
       "      <th>0</th>\n",
       "      <td>종로구</td>\n",
       "      <td>청운효자동</td>\n",
       "      <td>11010720</td>\n",
       "      <td>1111051500</td>\n",
       "    </tr>\n",
       "    <tr>\n",
       "      <th>1</th>\n",
       "      <td>종로구</td>\n",
       "      <td>사직동</td>\n",
       "      <td>11010530</td>\n",
       "      <td>1111053000</td>\n",
       "    </tr>\n",
       "    <tr>\n",
       "      <th>2</th>\n",
       "      <td>종로구</td>\n",
       "      <td>삼청동</td>\n",
       "      <td>11010540</td>\n",
       "      <td>1111054000</td>\n",
       "    </tr>\n",
       "    <tr>\n",
       "      <th>3</th>\n",
       "      <td>종로구</td>\n",
       "      <td>부암동</td>\n",
       "      <td>11010550</td>\n",
       "      <td>1111055000</td>\n",
       "    </tr>\n",
       "    <tr>\n",
       "      <th>4</th>\n",
       "      <td>종로구</td>\n",
       "      <td>평창동</td>\n",
       "      <td>11010560</td>\n",
       "      <td>1111056000</td>\n",
       "    </tr>\n",
       "  </tbody>\n",
       "</table>\n",
       "</div>"
      ],
      "text/plain": [
       "   행정구    행정동    행정구역코드      행정기관코드\n",
       "0  종로구  청운효자동  11010720  1111051500\n",
       "1  종로구    사직동  11010530  1111053000\n",
       "2  종로구    삼청동  11010540  1111054000\n",
       "3  종로구    부암동  11010550  1111055000\n",
       "4  종로구    평창동  11010560  1111056000"
      ]
     },
     "execution_count": 93,
     "metadata": {},
     "output_type": "execute_result"
    }
   ],
   "source": [
    "code_df = pd.read_csv('./행정기관코드_변환용데이터_제2.csv',index_col=0)\n",
    "code_df.head()"
   ]
  },
  {
   "cell_type": "code",
   "execution_count": 94,
   "metadata": {},
   "outputs": [
    {
     "data": {
      "text/html": [
       "<div>\n",
       "<style scoped>\n",
       "    .dataframe tbody tr th:only-of-type {\n",
       "        vertical-align: middle;\n",
       "    }\n",
       "\n",
       "    .dataframe tbody tr th {\n",
       "        vertical-align: top;\n",
       "    }\n",
       "\n",
       "    .dataframe thead th {\n",
       "        text-align: right;\n",
       "    }\n",
       "</style>\n",
       "<table border=\"1\" class=\"dataframe\">\n",
       "  <thead>\n",
       "    <tr style=\"text-align: right;\">\n",
       "      <th></th>\n",
       "      <th>AAGR_birth</th>\n",
       "      <th>AAGR_married</th>\n",
       "      <th>영유아/정원</th>\n",
       "      <th>평균소득</th>\n",
       "      <th>cluster</th>\n",
       "      <th>행정구</th>\n",
       "      <th>행정동</th>\n",
       "      <th>행정구역코드</th>\n",
       "      <th>행정기관코드</th>\n",
       "    </tr>\n",
       "  </thead>\n",
       "  <tbody>\n",
       "    <tr>\n",
       "      <th>0</th>\n",
       "      <td>-0.26</td>\n",
       "      <td>-0.24</td>\n",
       "      <td>6.48</td>\n",
       "      <td>8492.840000</td>\n",
       "      <td>0</td>\n",
       "      <td>강남구</td>\n",
       "      <td>개포1동</td>\n",
       "      <td>11230680</td>\n",
       "      <td>1168066000</td>\n",
       "    </tr>\n",
       "    <tr>\n",
       "      <th>1</th>\n",
       "      <td>0.51</td>\n",
       "      <td>0.18</td>\n",
       "      <td>4.88</td>\n",
       "      <td>9551.995000</td>\n",
       "      <td>0</td>\n",
       "      <td>강남구</td>\n",
       "      <td>개포2동</td>\n",
       "      <td>11230800</td>\n",
       "      <td>1168067000</td>\n",
       "    </tr>\n",
       "    <tr>\n",
       "      <th>2</th>\n",
       "      <td>0.05</td>\n",
       "      <td>0.00</td>\n",
       "      <td>1.72</td>\n",
       "      <td>8492.840000</td>\n",
       "      <td>3</td>\n",
       "      <td>강남구</td>\n",
       "      <td>개포4동</td>\n",
       "      <td>11230710</td>\n",
       "      <td>1168069000</td>\n",
       "    </tr>\n",
       "    <tr>\n",
       "      <th>3</th>\n",
       "      <td>-0.08</td>\n",
       "      <td>-0.09</td>\n",
       "      <td>1.86</td>\n",
       "      <td>10956.943333</td>\n",
       "      <td>3</td>\n",
       "      <td>강남구</td>\n",
       "      <td>세곡동</td>\n",
       "      <td>11230760</td>\n",
       "      <td>1168070000</td>\n",
       "    </tr>\n",
       "    <tr>\n",
       "      <th>4</th>\n",
       "      <td>-0.16</td>\n",
       "      <td>0.06</td>\n",
       "      <td>0.98</td>\n",
       "      <td>11959.760000</td>\n",
       "      <td>3</td>\n",
       "      <td>강남구</td>\n",
       "      <td>일원1동</td>\n",
       "      <td>11230730</td>\n",
       "      <td>1168073000</td>\n",
       "    </tr>\n",
       "    <tr>\n",
       "      <th>...</th>\n",
       "      <td>...</td>\n",
       "      <td>...</td>\n",
       "      <td>...</td>\n",
       "      <td>...</td>\n",
       "      <td>...</td>\n",
       "      <td>...</td>\n",
       "      <td>...</td>\n",
       "      <td>...</td>\n",
       "      <td>...</td>\n",
       "    </tr>\n",
       "    <tr>\n",
       "      <th>306</th>\n",
       "      <td>0.00</td>\n",
       "      <td>0.11</td>\n",
       "      <td>1.69</td>\n",
       "      <td>3987.760000</td>\n",
       "      <td>4</td>\n",
       "      <td>중랑구</td>\n",
       "      <td>상봉2동</td>\n",
       "      <td>11070600</td>\n",
       "      <td>1126059000</td>\n",
       "    </tr>\n",
       "    <tr>\n",
       "      <th>307</th>\n",
       "      <td>-0.04</td>\n",
       "      <td>-0.13</td>\n",
       "      <td>1.03</td>\n",
       "      <td>3837.790000</td>\n",
       "      <td>4</td>\n",
       "      <td>중랑구</td>\n",
       "      <td>신내1동</td>\n",
       "      <td>11070690</td>\n",
       "      <td>1126068000</td>\n",
       "    </tr>\n",
       "    <tr>\n",
       "      <th>308</th>\n",
       "      <td>-0.13</td>\n",
       "      <td>-0.09</td>\n",
       "      <td>1.22</td>\n",
       "      <td>3837.790000</td>\n",
       "      <td>4</td>\n",
       "      <td>중랑구</td>\n",
       "      <td>신내2동</td>\n",
       "      <td>11070700</td>\n",
       "      <td>1126069000</td>\n",
       "    </tr>\n",
       "    <tr>\n",
       "      <th>309</th>\n",
       "      <td>-0.15</td>\n",
       "      <td>-0.20</td>\n",
       "      <td>1.66</td>\n",
       "      <td>3967.030000</td>\n",
       "      <td>4</td>\n",
       "      <td>중랑구</td>\n",
       "      <td>중화1동</td>\n",
       "      <td>11070610</td>\n",
       "      <td>1126060000</td>\n",
       "    </tr>\n",
       "    <tr>\n",
       "      <th>310</th>\n",
       "      <td>-0.05</td>\n",
       "      <td>-0.04</td>\n",
       "      <td>1.87</td>\n",
       "      <td>3967.030000</td>\n",
       "      <td>4</td>\n",
       "      <td>중랑구</td>\n",
       "      <td>중화2동</td>\n",
       "      <td>11070620</td>\n",
       "      <td>1126061000</td>\n",
       "    </tr>\n",
       "  </tbody>\n",
       "</table>\n",
       "<p>311 rows × 9 columns</p>\n",
       "</div>"
      ],
      "text/plain": [
       "     AAGR_birth  AAGR_married  영유아/정원          평균소득  cluster  행정구   행정동  \\\n",
       "0         -0.26         -0.24    6.48   8492.840000        0  강남구  개포1동   \n",
       "1          0.51          0.18    4.88   9551.995000        0  강남구  개포2동   \n",
       "2          0.05          0.00    1.72   8492.840000        3  강남구  개포4동   \n",
       "3         -0.08         -0.09    1.86  10956.943333        3  강남구   세곡동   \n",
       "4         -0.16          0.06    0.98  11959.760000        3  강남구  일원1동   \n",
       "..          ...           ...     ...           ...      ...  ...   ...   \n",
       "306        0.00          0.11    1.69   3987.760000        4  중랑구  상봉2동   \n",
       "307       -0.04         -0.13    1.03   3837.790000        4  중랑구  신내1동   \n",
       "308       -0.13         -0.09    1.22   3837.790000        4  중랑구  신내2동   \n",
       "309       -0.15         -0.20    1.66   3967.030000        4  중랑구  중화1동   \n",
       "310       -0.05         -0.04    1.87   3967.030000        4  중랑구  중화2동   \n",
       "\n",
       "       행정구역코드      행정기관코드  \n",
       "0    11230680  1168066000  \n",
       "1    11230800  1168067000  \n",
       "2    11230710  1168069000  \n",
       "3    11230760  1168070000  \n",
       "4    11230730  1168073000  \n",
       "..        ...         ...  \n",
       "306  11070600  1126059000  \n",
       "307  11070690  1126068000  \n",
       "308  11070700  1126069000  \n",
       "309  11070610  1126060000  \n",
       "310  11070620  1126061000  \n",
       "\n",
       "[311 rows x 9 columns]"
      ]
     },
     "execution_count": 94,
     "metadata": {},
     "output_type": "execute_result"
    }
   ],
   "source": [
    "complete_df = complete_combined_df.merge(code_df,how='left',on=['행정구','행정동'])\n",
    "complete_df"
   ]
  },
  {
   "cell_type": "code",
   "execution_count": 117,
   "metadata": {},
   "outputs": [
    {
     "data": {
      "text/html": [
       "<div>\n",
       "<style scoped>\n",
       "    .dataframe tbody tr th:only-of-type {\n",
       "        vertical-align: middle;\n",
       "    }\n",
       "\n",
       "    .dataframe tbody tr th {\n",
       "        vertical-align: top;\n",
       "    }\n",
       "\n",
       "    .dataframe thead th {\n",
       "        text-align: right;\n",
       "    }\n",
       "</style>\n",
       "<table border=\"1\" class=\"dataframe\">\n",
       "  <thead>\n",
       "    <tr style=\"text-align: right;\">\n",
       "      <th></th>\n",
       "      <th>AAGR_birth</th>\n",
       "      <th>AAGR_married</th>\n",
       "      <th>영유아/정원</th>\n",
       "      <th>평균소득</th>\n",
       "      <th>cluster</th>\n",
       "      <th>행정구</th>\n",
       "      <th>행정동</th>\n",
       "      <th>행정구역코드</th>\n",
       "      <th>행정기관코드</th>\n",
       "    </tr>\n",
       "  </thead>\n",
       "  <tbody>\n",
       "    <tr>\n",
       "      <th>84</th>\n",
       "      <td>0.05</td>\n",
       "      <td>-0.03</td>\n",
       "      <td>1.61</td>\n",
       "      <td>4331.640</td>\n",
       "      <td>4</td>\n",
       "      <td>구로구</td>\n",
       "      <td>개봉1동</td>\n",
       "      <td>11170720</td>\n",
       "      <td>1153074000</td>\n",
       "    </tr>\n",
       "    <tr>\n",
       "      <th>85</th>\n",
       "      <td>-0.14</td>\n",
       "      <td>-0.17</td>\n",
       "      <td>2.28</td>\n",
       "      <td>4331.640</td>\n",
       "      <td>4</td>\n",
       "      <td>구로구</td>\n",
       "      <td>개봉2동</td>\n",
       "      <td>11170640</td>\n",
       "      <td>1153075000</td>\n",
       "    </tr>\n",
       "    <tr>\n",
       "      <th>86</th>\n",
       "      <td>-0.16</td>\n",
       "      <td>-0.19</td>\n",
       "      <td>1.18</td>\n",
       "      <td>4331.640</td>\n",
       "      <td>4</td>\n",
       "      <td>구로구</td>\n",
       "      <td>개봉3동</td>\n",
       "      <td>11170650</td>\n",
       "      <td>1153076000</td>\n",
       "    </tr>\n",
       "    <tr>\n",
       "      <th>87</th>\n",
       "      <td>-0.20</td>\n",
       "      <td>-0.16</td>\n",
       "      <td>1.65</td>\n",
       "      <td>4061.910</td>\n",
       "      <td>4</td>\n",
       "      <td>구로구</td>\n",
       "      <td>고척1동</td>\n",
       "      <td>11170610</td>\n",
       "      <td>1153072000</td>\n",
       "    </tr>\n",
       "    <tr>\n",
       "      <th>88</th>\n",
       "      <td>-0.08</td>\n",
       "      <td>-0.21</td>\n",
       "      <td>1.59</td>\n",
       "      <td>4061.910</td>\n",
       "      <td>4</td>\n",
       "      <td>구로구</td>\n",
       "      <td>고척2동</td>\n",
       "      <td>11170620</td>\n",
       "      <td>1153073000</td>\n",
       "    </tr>\n",
       "    <tr>\n",
       "      <th>89</th>\n",
       "      <td>-0.07</td>\n",
       "      <td>0.01</td>\n",
       "      <td>1.96</td>\n",
       "      <td>3716.190</td>\n",
       "      <td>4</td>\n",
       "      <td>구로구</td>\n",
       "      <td>구로1동</td>\n",
       "      <td>11170520</td>\n",
       "      <td>1153052000</td>\n",
       "    </tr>\n",
       "    <tr>\n",
       "      <th>90</th>\n",
       "      <td>-0.12</td>\n",
       "      <td>-0.12</td>\n",
       "      <td>0.94</td>\n",
       "      <td>3716.190</td>\n",
       "      <td>4</td>\n",
       "      <td>구로구</td>\n",
       "      <td>구로4동</td>\n",
       "      <td>11170550</td>\n",
       "      <td>1153055000</td>\n",
       "    </tr>\n",
       "    <tr>\n",
       "      <th>91</th>\n",
       "      <td>-0.08</td>\n",
       "      <td>-0.06</td>\n",
       "      <td>1.74</td>\n",
       "      <td>3716.190</td>\n",
       "      <td>4</td>\n",
       "      <td>구로구</td>\n",
       "      <td>구로5동</td>\n",
       "      <td>11170560</td>\n",
       "      <td>1153056000</td>\n",
       "    </tr>\n",
       "    <tr>\n",
       "      <th>92</th>\n",
       "      <td>-0.08</td>\n",
       "      <td>-0.12</td>\n",
       "      <td>1.53</td>\n",
       "      <td>4177.055</td>\n",
       "      <td>4</td>\n",
       "      <td>구로구</td>\n",
       "      <td>수궁동</td>\n",
       "      <td>11170690</td>\n",
       "      <td>1153079000</td>\n",
       "    </tr>\n",
       "    <tr>\n",
       "      <th>93</th>\n",
       "      <td>-0.05</td>\n",
       "      <td>-0.05</td>\n",
       "      <td>2.61</td>\n",
       "      <td>4030.190</td>\n",
       "      <td>1</td>\n",
       "      <td>구로구</td>\n",
       "      <td>신도림동</td>\n",
       "      <td>11170510</td>\n",
       "      <td>1153051000</td>\n",
       "    </tr>\n",
       "    <tr>\n",
       "      <th>94</th>\n",
       "      <td>-0.05</td>\n",
       "      <td>-0.09</td>\n",
       "      <td>1.43</td>\n",
       "      <td>3740.720</td>\n",
       "      <td>4</td>\n",
       "      <td>구로구</td>\n",
       "      <td>오류1동</td>\n",
       "      <td>11170670</td>\n",
       "      <td>1153077000</td>\n",
       "    </tr>\n",
       "    <tr>\n",
       "      <th>95</th>\n",
       "      <td>-0.06</td>\n",
       "      <td>-0.16</td>\n",
       "      <td>1.42</td>\n",
       "      <td>3692.225</td>\n",
       "      <td>4</td>\n",
       "      <td>구로구</td>\n",
       "      <td>오류2동</td>\n",
       "      <td>11170730</td>\n",
       "      <td>1153078000</td>\n",
       "    </tr>\n",
       "  </tbody>\n",
       "</table>\n",
       "</div>"
      ],
      "text/plain": [
       "    AAGR_birth  AAGR_married  영유아/정원      평균소득  cluster  행정구   행정동    행정구역코드  \\\n",
       "84        0.05         -0.03    1.61  4331.640        4  구로구  개봉1동  11170720   \n",
       "85       -0.14         -0.17    2.28  4331.640        4  구로구  개봉2동  11170640   \n",
       "86       -0.16         -0.19    1.18  4331.640        4  구로구  개봉3동  11170650   \n",
       "87       -0.20         -0.16    1.65  4061.910        4  구로구  고척1동  11170610   \n",
       "88       -0.08         -0.21    1.59  4061.910        4  구로구  고척2동  11170620   \n",
       "89       -0.07          0.01    1.96  3716.190        4  구로구  구로1동  11170520   \n",
       "90       -0.12         -0.12    0.94  3716.190        4  구로구  구로4동  11170550   \n",
       "91       -0.08         -0.06    1.74  3716.190        4  구로구  구로5동  11170560   \n",
       "92       -0.08         -0.12    1.53  4177.055        4  구로구   수궁동  11170690   \n",
       "93       -0.05         -0.05    2.61  4030.190        1  구로구  신도림동  11170510   \n",
       "94       -0.05         -0.09    1.43  3740.720        4  구로구  오류1동  11170670   \n",
       "95       -0.06         -0.16    1.42  3692.225        4  구로구  오류2동  11170730   \n",
       "\n",
       "        행정기관코드  \n",
       "84  1153074000  \n",
       "85  1153075000  \n",
       "86  1153076000  \n",
       "87  1153072000  \n",
       "88  1153073000  \n",
       "89  1153052000  \n",
       "90  1153055000  \n",
       "91  1153056000  \n",
       "92  1153079000  \n",
       "93  1153051000  \n",
       "94  1153077000  \n",
       "95  1153078000  "
      ]
     },
     "execution_count": 117,
     "metadata": {},
     "output_type": "execute_result"
    }
   ],
   "source": [
    "complete_df[complete_df['행정구']=='구로구'] "
   ]
  },
  {
   "cell_type": "code",
   "execution_count": 95,
   "metadata": {},
   "outputs": [],
   "source": [
    "complete_df.to_csv('./data_final11.csv')"
   ]
  },
  {
   "cell_type": "code",
   "execution_count": 102,
   "metadata": {},
   "outputs": [
    {
     "data": {
      "text/html": [
       "<div>\n",
       "<style scoped>\n",
       "    .dataframe tbody tr th:only-of-type {\n",
       "        vertical-align: middle;\n",
       "    }\n",
       "\n",
       "    .dataframe tbody tr th {\n",
       "        vertical-align: top;\n",
       "    }\n",
       "\n",
       "    .dataframe thead th {\n",
       "        text-align: right;\n",
       "    }\n",
       "</style>\n",
       "<table border=\"1\" class=\"dataframe\">\n",
       "  <thead>\n",
       "    <tr style=\"text-align: right;\">\n",
       "      <th></th>\n",
       "      <th>AAGR_birth</th>\n",
       "      <th>AAGR_married</th>\n",
       "      <th>영유아/정원</th>\n",
       "      <th>평균소득</th>\n",
       "    </tr>\n",
       "    <tr>\n",
       "      <th>cluster</th>\n",
       "      <th></th>\n",
       "      <th></th>\n",
       "      <th></th>\n",
       "      <th></th>\n",
       "    </tr>\n",
       "  </thead>\n",
       "  <tbody>\n",
       "    <tr>\n",
       "      <th>0</th>\n",
       "      <td>0.249091</td>\n",
       "      <td>-0.002727</td>\n",
       "      <td>5.079091</td>\n",
       "      <td>7302.105000</td>\n",
       "    </tr>\n",
       "    <tr>\n",
       "      <th>1</th>\n",
       "      <td>0.075000</td>\n",
       "      <td>0.022381</td>\n",
       "      <td>3.200000</td>\n",
       "      <td>4102.114286</td>\n",
       "    </tr>\n",
       "    <tr>\n",
       "      <th>2</th>\n",
       "      <td>-0.087368</td>\n",
       "      <td>-0.091579</td>\n",
       "      <td>2.011263</td>\n",
       "      <td>5507.958126</td>\n",
       "    </tr>\n",
       "    <tr>\n",
       "      <th>3</th>\n",
       "      <td>-0.078462</td>\n",
       "      <td>-0.095385</td>\n",
       "      <td>2.195385</td>\n",
       "      <td>10301.587179</td>\n",
       "    </tr>\n",
       "    <tr>\n",
       "      <th>4</th>\n",
       "      <td>-0.100800</td>\n",
       "      <td>-0.093667</td>\n",
       "      <td>1.559800</td>\n",
       "      <td>4014.026937</td>\n",
       "    </tr>\n",
       "  </tbody>\n",
       "</table>\n",
       "</div>"
      ],
      "text/plain": [
       "         AAGR_birth  AAGR_married    영유아/정원          평균소득\n",
       "cluster                                                  \n",
       "0          0.249091     -0.002727  5.079091   7302.105000\n",
       "1          0.075000      0.022381  3.200000   4102.114286\n",
       "2         -0.087368     -0.091579  2.011263   5507.958126\n",
       "3         -0.078462     -0.095385  2.195385  10301.587179\n",
       "4         -0.100800     -0.093667  1.559800   4014.026937"
      ]
     },
     "execution_count": 102,
     "metadata": {},
     "output_type": "execute_result"
    }
   ],
   "source": [
    "combined_df.groupby('cluster').mean()"
   ]
  },
  {
   "cell_type": "code",
   "execution_count": null,
   "metadata": {},
   "outputs": [],
   "source": []
  }
 ],
 "metadata": {
  "kernelspec": {
   "display_name": "Python 3",
   "language": "python",
   "name": "python3"
  },
  "language_info": {
   "codemirror_mode": {
    "name": "ipython",
    "version": 3
   },
   "file_extension": ".py",
   "mimetype": "text/x-python",
   "name": "python",
   "nbconvert_exporter": "python",
   "pygments_lexer": "ipython3",
   "version": "3.7.1"
  }
 },
 "nbformat": 4,
 "nbformat_minor": 2
}
